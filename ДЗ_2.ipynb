{
  "nbformat": 4,
  "nbformat_minor": 0,
  "metadata": {
    "colab": {
      "name": "ДЗ 2.ipynb",
      "provenance": [],
      "authorship_tag": "ABX9TyMbmd4AQtfaeU3oZ7EQblcu",
      "include_colab_link": true
    },
    "kernelspec": {
      "display_name": "Python 3",
      "name": "python3"
    },
    "language_info": {
      "name": "python"
    }
  },
  "cells": [
    {
      "cell_type": "markdown",
      "metadata": {
        "id": "view-in-github",
        "colab_type": "text"
      },
      "source": [
        "<a href=\"https://colab.research.google.com/github/yarnikitin/-/blob/master/%D0%94%D0%97_2.ipynb\" target=\"_parent\"><img src=\"https://colab.research.google.com/assets/colab-badge.svg\" alt=\"Open In Colab\"/></a>"
      ]
    },
    {
      "cell_type": "code",
      "metadata": {
        "colab": {
          "background_save": true
        },
        "id": "7ED0FbQP7AVe"
      },
      "source": [
        "import pandas as pd"
      ],
      "execution_count": null,
      "outputs": []
    },
    {
      "cell_type": "markdown",
      "metadata": {
        "id": "EQrh2kZfDmKt"
      },
      "source": [
        "# **Загрузка**"
      ]
    },
    {
      "cell_type": "code",
      "metadata": {
        "colab": {
          "background_save": true
        },
        "id": "gNU6nllw72Jh",
        "outputId": "20723807-e04a-4948-dcda-0d7aab10fb0d"
      },
      "source": [
        "df1 = pd.read_csv('marketing_campaign.csv')\n",
        "df1.head(10)"
      ],
      "execution_count": null,
      "outputs": [
        {
          "output_type": "execute_result",
          "data": {
            "text/html": [
              "<div>\n",
              "<style scoped>\n",
              "    .dataframe tbody tr th:only-of-type {\n",
              "        vertical-align: middle;\n",
              "    }\n",
              "\n",
              "    .dataframe tbody tr th {\n",
              "        vertical-align: top;\n",
              "    }\n",
              "\n",
              "    .dataframe thead th {\n",
              "        text-align: right;\n",
              "    }\n",
              "</style>\n",
              "<table border=\"1\" class=\"dataframe\">\n",
              "  <thead>\n",
              "    <tr style=\"text-align: right;\">\n",
              "      <th></th>\n",
              "      <th>user_id</th>\n",
              "      <th>date_served</th>\n",
              "      <th>marketing_channel</th>\n",
              "      <th>variant</th>\n",
              "      <th>language_displayed</th>\n",
              "      <th>converted</th>\n",
              "    </tr>\n",
              "  </thead>\n",
              "  <tbody>\n",
              "    <tr>\n",
              "      <th>0</th>\n",
              "      <td>a1000</td>\n",
              "      <td>1/1/18</td>\n",
              "      <td>House Ads</td>\n",
              "      <td>personalization</td>\n",
              "      <td>English</td>\n",
              "      <td>True</td>\n",
              "    </tr>\n",
              "    <tr>\n",
              "      <th>1</th>\n",
              "      <td>a1001</td>\n",
              "      <td>1/1/18</td>\n",
              "      <td>House Ads</td>\n",
              "      <td>personalization</td>\n",
              "      <td>English</td>\n",
              "      <td>True</td>\n",
              "    </tr>\n",
              "    <tr>\n",
              "      <th>2</th>\n",
              "      <td>a1002</td>\n",
              "      <td>1/1/18</td>\n",
              "      <td>House Ads</td>\n",
              "      <td>personalization</td>\n",
              "      <td>English</td>\n",
              "      <td>True</td>\n",
              "    </tr>\n",
              "    <tr>\n",
              "      <th>3</th>\n",
              "      <td>a1003</td>\n",
              "      <td>1/1/18</td>\n",
              "      <td>House Ads</td>\n",
              "      <td>personalization</td>\n",
              "      <td>English</td>\n",
              "      <td>True</td>\n",
              "    </tr>\n",
              "    <tr>\n",
              "      <th>4</th>\n",
              "      <td>a1004</td>\n",
              "      <td>1/1/18</td>\n",
              "      <td>House Ads</td>\n",
              "      <td>personalization</td>\n",
              "      <td>English</td>\n",
              "      <td>True</td>\n",
              "    </tr>\n",
              "    <tr>\n",
              "      <th>5</th>\n",
              "      <td>a1005</td>\n",
              "      <td>1/1/18</td>\n",
              "      <td>House Ads</td>\n",
              "      <td>personalization</td>\n",
              "      <td>German</td>\n",
              "      <td>True</td>\n",
              "    </tr>\n",
              "    <tr>\n",
              "      <th>6</th>\n",
              "      <td>a1006</td>\n",
              "      <td>1/1/18</td>\n",
              "      <td>House Ads</td>\n",
              "      <td>personalization</td>\n",
              "      <td>English</td>\n",
              "      <td>True</td>\n",
              "    </tr>\n",
              "    <tr>\n",
              "      <th>7</th>\n",
              "      <td>a1007</td>\n",
              "      <td>1/1/18</td>\n",
              "      <td>House Ads</td>\n",
              "      <td>personalization</td>\n",
              "      <td>English</td>\n",
              "      <td>True</td>\n",
              "    </tr>\n",
              "    <tr>\n",
              "      <th>8</th>\n",
              "      <td>a1008</td>\n",
              "      <td>1/1/18</td>\n",
              "      <td>House Ads</td>\n",
              "      <td>personalization</td>\n",
              "      <td>English</td>\n",
              "      <td>True</td>\n",
              "    </tr>\n",
              "    <tr>\n",
              "      <th>9</th>\n",
              "      <td>a1009</td>\n",
              "      <td>1/1/18</td>\n",
              "      <td>House Ads</td>\n",
              "      <td>personalization</td>\n",
              "      <td>English</td>\n",
              "      <td>True</td>\n",
              "    </tr>\n",
              "  </tbody>\n",
              "</table>\n",
              "</div>"
            ],
            "text/plain": [
              "  user_id date_served  ... language_displayed converted\n",
              "0   a1000      1/1/18  ...            English      True\n",
              "1   a1001      1/1/18  ...            English      True\n",
              "2   a1002      1/1/18  ...            English      True\n",
              "3   a1003      1/1/18  ...            English      True\n",
              "4   a1004      1/1/18  ...            English      True\n",
              "5   a1005      1/1/18  ...             German      True\n",
              "6   a1006      1/1/18  ...            English      True\n",
              "7   a1007      1/1/18  ...            English      True\n",
              "8   a1008      1/1/18  ...            English      True\n",
              "9   a1009      1/1/18  ...            English      True\n",
              "\n",
              "[10 rows x 6 columns]"
            ]
          },
          "metadata": {
            "tags": []
          },
          "execution_count": 0
        }
      ]
    },
    {
      "cell_type": "code",
      "metadata": {
        "colab": {
          "background_save": true
        },
        "id": "oZeMT-wX-A1_",
        "outputId": "658090a7-5aa6-4983-fa4f-f3fca77f6e3b"
      },
      "source": [
        "df2 = pd.read_csv('subscribers.csv')\n",
        "df2.head(10)"
      ],
      "execution_count": null,
      "outputs": [
        {
          "output_type": "execute_result",
          "data": {
            "text/html": [
              "<div>\n",
              "<style scoped>\n",
              "    .dataframe tbody tr th:only-of-type {\n",
              "        vertical-align: middle;\n",
              "    }\n",
              "\n",
              "    .dataframe tbody tr th {\n",
              "        vertical-align: top;\n",
              "    }\n",
              "\n",
              "    .dataframe thead th {\n",
              "        text-align: right;\n",
              "    }\n",
              "</style>\n",
              "<table border=\"1\" class=\"dataframe\">\n",
              "  <thead>\n",
              "    <tr style=\"text-align: right;\">\n",
              "      <th></th>\n",
              "      <th>user_id</th>\n",
              "      <th>subscribing_channel</th>\n",
              "      <th>date_subscribed</th>\n",
              "      <th>date_canceled</th>\n",
              "      <th>is_retained</th>\n",
              "    </tr>\n",
              "  </thead>\n",
              "  <tbody>\n",
              "    <tr>\n",
              "      <th>0</th>\n",
              "      <td>a1000</td>\n",
              "      <td>House Ads</td>\n",
              "      <td>1/1/18</td>\n",
              "      <td>NaN</td>\n",
              "      <td>True</td>\n",
              "    </tr>\n",
              "    <tr>\n",
              "      <th>1</th>\n",
              "      <td>a1001</td>\n",
              "      <td>House Ads</td>\n",
              "      <td>1/1/18</td>\n",
              "      <td>NaN</td>\n",
              "      <td>True</td>\n",
              "    </tr>\n",
              "    <tr>\n",
              "      <th>2</th>\n",
              "      <td>a1002</td>\n",
              "      <td>House Ads</td>\n",
              "      <td>1/1/18</td>\n",
              "      <td>NaN</td>\n",
              "      <td>True</td>\n",
              "    </tr>\n",
              "    <tr>\n",
              "      <th>3</th>\n",
              "      <td>a1003</td>\n",
              "      <td>House Ads</td>\n",
              "      <td>1/1/18</td>\n",
              "      <td>NaN</td>\n",
              "      <td>True</td>\n",
              "    </tr>\n",
              "    <tr>\n",
              "      <th>4</th>\n",
              "      <td>a1004</td>\n",
              "      <td>House Ads</td>\n",
              "      <td>1/1/18</td>\n",
              "      <td>NaN</td>\n",
              "      <td>True</td>\n",
              "    </tr>\n",
              "    <tr>\n",
              "      <th>5</th>\n",
              "      <td>a1005</td>\n",
              "      <td>House Ads</td>\n",
              "      <td>1/1/18</td>\n",
              "      <td>NaN</td>\n",
              "      <td>True</td>\n",
              "    </tr>\n",
              "    <tr>\n",
              "      <th>6</th>\n",
              "      <td>a1006</td>\n",
              "      <td>House Ads</td>\n",
              "      <td>1/1/18</td>\n",
              "      <td>NaN</td>\n",
              "      <td>True</td>\n",
              "    </tr>\n",
              "    <tr>\n",
              "      <th>7</th>\n",
              "      <td>a1007</td>\n",
              "      <td>House Ads</td>\n",
              "      <td>1/1/18</td>\n",
              "      <td>NaN</td>\n",
              "      <td>True</td>\n",
              "    </tr>\n",
              "    <tr>\n",
              "      <th>8</th>\n",
              "      <td>a1008</td>\n",
              "      <td>House Ads</td>\n",
              "      <td>1/1/18</td>\n",
              "      <td>NaN</td>\n",
              "      <td>True</td>\n",
              "    </tr>\n",
              "    <tr>\n",
              "      <th>9</th>\n",
              "      <td>a1009</td>\n",
              "      <td>House Ads</td>\n",
              "      <td>1/1/18</td>\n",
              "      <td>NaN</td>\n",
              "      <td>True</td>\n",
              "    </tr>\n",
              "  </tbody>\n",
              "</table>\n",
              "</div>"
            ],
            "text/plain": [
              "  user_id subscribing_channel date_subscribed date_canceled is_retained\n",
              "0   a1000           House Ads          1/1/18           NaN        True\n",
              "1   a1001           House Ads          1/1/18           NaN        True\n",
              "2   a1002           House Ads          1/1/18           NaN        True\n",
              "3   a1003           House Ads          1/1/18           NaN        True\n",
              "4   a1004           House Ads          1/1/18           NaN        True\n",
              "5   a1005           House Ads          1/1/18           NaN        True\n",
              "6   a1006           House Ads          1/1/18           NaN        True\n",
              "7   a1007           House Ads          1/1/18           NaN        True\n",
              "8   a1008           House Ads          1/1/18           NaN        True\n",
              "9   a1009           House Ads          1/1/18           NaN        True"
            ]
          },
          "metadata": {
            "tags": []
          },
          "execution_count": 0
        }
      ]
    },
    {
      "cell_type": "code",
      "metadata": {
        "colab": {
          "background_save": true
        },
        "id": "XWArYsGU-Wz6",
        "outputId": "26438287-bf81-4b75-e5ba-ade3638e5e0f"
      },
      "source": [
        "df3 = pd.read_csv('users.csv')\n",
        "df3.head(10)"
      ],
      "execution_count": null,
      "outputs": [
        {
          "output_type": "execute_result",
          "data": {
            "text/html": [
              "<div>\n",
              "<style scoped>\n",
              "    .dataframe tbody tr th:only-of-type {\n",
              "        vertical-align: middle;\n",
              "    }\n",
              "\n",
              "    .dataframe tbody tr th {\n",
              "        vertical-align: top;\n",
              "    }\n",
              "\n",
              "    .dataframe thead th {\n",
              "        text-align: right;\n",
              "    }\n",
              "</style>\n",
              "<table border=\"1\" class=\"dataframe\">\n",
              "  <thead>\n",
              "    <tr style=\"text-align: right;\">\n",
              "      <th></th>\n",
              "      <th>user_id</th>\n",
              "      <th>age_group</th>\n",
              "      <th>language_preferred</th>\n",
              "    </tr>\n",
              "  </thead>\n",
              "  <tbody>\n",
              "    <tr>\n",
              "      <th>0</th>\n",
              "      <td>a1000</td>\n",
              "      <td>0-18 years</td>\n",
              "      <td>English</td>\n",
              "    </tr>\n",
              "    <tr>\n",
              "      <th>1</th>\n",
              "      <td>a1001</td>\n",
              "      <td>19-24 years</td>\n",
              "      <td>English</td>\n",
              "    </tr>\n",
              "    <tr>\n",
              "      <th>2</th>\n",
              "      <td>a1002</td>\n",
              "      <td>24-30 years</td>\n",
              "      <td>English</td>\n",
              "    </tr>\n",
              "    <tr>\n",
              "      <th>3</th>\n",
              "      <td>a1003</td>\n",
              "      <td>30-36 years</td>\n",
              "      <td>English</td>\n",
              "    </tr>\n",
              "    <tr>\n",
              "      <th>4</th>\n",
              "      <td>a1004</td>\n",
              "      <td>36-45 years</td>\n",
              "      <td>English</td>\n",
              "    </tr>\n",
              "    <tr>\n",
              "      <th>5</th>\n",
              "      <td>a1005</td>\n",
              "      <td>45-55 years</td>\n",
              "      <td>German</td>\n",
              "    </tr>\n",
              "    <tr>\n",
              "      <th>6</th>\n",
              "      <td>a1006</td>\n",
              "      <td>55+ years</td>\n",
              "      <td>English</td>\n",
              "    </tr>\n",
              "    <tr>\n",
              "      <th>7</th>\n",
              "      <td>a1007</td>\n",
              "      <td>0-18 years</td>\n",
              "      <td>English</td>\n",
              "    </tr>\n",
              "    <tr>\n",
              "      <th>8</th>\n",
              "      <td>a1008</td>\n",
              "      <td>19-24 years</td>\n",
              "      <td>English</td>\n",
              "    </tr>\n",
              "    <tr>\n",
              "      <th>9</th>\n",
              "      <td>a1009</td>\n",
              "      <td>24-30 years</td>\n",
              "      <td>English</td>\n",
              "    </tr>\n",
              "  </tbody>\n",
              "</table>\n",
              "</div>"
            ],
            "text/plain": [
              "  user_id    age_group language_preferred\n",
              "0   a1000   0-18 years            English\n",
              "1   a1001  19-24 years            English\n",
              "2   a1002  24-30 years            English\n",
              "3   a1003  30-36 years            English\n",
              "4   a1004  36-45 years            English\n",
              "5   a1005  45-55 years             German\n",
              "6   a1006    55+ years            English\n",
              "7   a1007   0-18 years            English\n",
              "8   a1008  19-24 years            English\n",
              "9   a1009  24-30 years            English"
            ]
          },
          "metadata": {
            "tags": []
          },
          "execution_count": 0
        }
      ]
    },
    {
      "cell_type": "markdown",
      "metadata": {
        "id": "DwsPb2YvDtJC"
      },
      "source": [
        "# **Соединение**"
      ]
    },
    {
      "cell_type": "code",
      "metadata": {
        "colab": {
          "background_save": true
        },
        "id": "BYwqtXJ0-fNd",
        "outputId": "e3a2a029-fead-4218-9a5f-402f708f6e88"
      },
      "source": [
        "df4 = df3.merge(df1, on = 'user_id' , how = 'inner')\n",
        "df_merge = df4.merge(df2, on = 'user_id' , how = 'inner')\n",
        "df_merge.head(10)"
      ],
      "execution_count": null,
      "outputs": [
        {
          "output_type": "execute_result",
          "data": {
            "text/html": [
              "<div>\n",
              "<style scoped>\n",
              "    .dataframe tbody tr th:only-of-type {\n",
              "        vertical-align: middle;\n",
              "    }\n",
              "\n",
              "    .dataframe tbody tr th {\n",
              "        vertical-align: top;\n",
              "    }\n",
              "\n",
              "    .dataframe thead th {\n",
              "        text-align: right;\n",
              "    }\n",
              "</style>\n",
              "<table border=\"1\" class=\"dataframe\">\n",
              "  <thead>\n",
              "    <tr style=\"text-align: right;\">\n",
              "      <th></th>\n",
              "      <th>user_id</th>\n",
              "      <th>age_group</th>\n",
              "      <th>language_preferred</th>\n",
              "      <th>date_served</th>\n",
              "      <th>marketing_channel</th>\n",
              "      <th>variant</th>\n",
              "      <th>language_displayed</th>\n",
              "      <th>converted</th>\n",
              "      <th>subscribing_channel</th>\n",
              "      <th>date_subscribed</th>\n",
              "      <th>date_canceled</th>\n",
              "      <th>is_retained</th>\n",
              "    </tr>\n",
              "  </thead>\n",
              "  <tbody>\n",
              "    <tr>\n",
              "      <th>0</th>\n",
              "      <td>a1000</td>\n",
              "      <td>0-18 years</td>\n",
              "      <td>English</td>\n",
              "      <td>1/1/18</td>\n",
              "      <td>House Ads</td>\n",
              "      <td>personalization</td>\n",
              "      <td>English</td>\n",
              "      <td>True</td>\n",
              "      <td>House Ads</td>\n",
              "      <td>1/1/18</td>\n",
              "      <td>NaN</td>\n",
              "      <td>True</td>\n",
              "    </tr>\n",
              "    <tr>\n",
              "      <th>1</th>\n",
              "      <td>a1001</td>\n",
              "      <td>19-24 years</td>\n",
              "      <td>English</td>\n",
              "      <td>1/1/18</td>\n",
              "      <td>House Ads</td>\n",
              "      <td>personalization</td>\n",
              "      <td>English</td>\n",
              "      <td>True</td>\n",
              "      <td>House Ads</td>\n",
              "      <td>1/1/18</td>\n",
              "      <td>NaN</td>\n",
              "      <td>True</td>\n",
              "    </tr>\n",
              "    <tr>\n",
              "      <th>2</th>\n",
              "      <td>a1002</td>\n",
              "      <td>24-30 years</td>\n",
              "      <td>English</td>\n",
              "      <td>1/1/18</td>\n",
              "      <td>House Ads</td>\n",
              "      <td>personalization</td>\n",
              "      <td>English</td>\n",
              "      <td>True</td>\n",
              "      <td>House Ads</td>\n",
              "      <td>1/1/18</td>\n",
              "      <td>NaN</td>\n",
              "      <td>True</td>\n",
              "    </tr>\n",
              "    <tr>\n",
              "      <th>3</th>\n",
              "      <td>a1003</td>\n",
              "      <td>30-36 years</td>\n",
              "      <td>English</td>\n",
              "      <td>1/1/18</td>\n",
              "      <td>House Ads</td>\n",
              "      <td>personalization</td>\n",
              "      <td>English</td>\n",
              "      <td>True</td>\n",
              "      <td>House Ads</td>\n",
              "      <td>1/1/18</td>\n",
              "      <td>NaN</td>\n",
              "      <td>True</td>\n",
              "    </tr>\n",
              "    <tr>\n",
              "      <th>4</th>\n",
              "      <td>a1004</td>\n",
              "      <td>36-45 years</td>\n",
              "      <td>English</td>\n",
              "      <td>1/1/18</td>\n",
              "      <td>House Ads</td>\n",
              "      <td>personalization</td>\n",
              "      <td>English</td>\n",
              "      <td>True</td>\n",
              "      <td>House Ads</td>\n",
              "      <td>1/1/18</td>\n",
              "      <td>NaN</td>\n",
              "      <td>True</td>\n",
              "    </tr>\n",
              "    <tr>\n",
              "      <th>5</th>\n",
              "      <td>a1005</td>\n",
              "      <td>45-55 years</td>\n",
              "      <td>German</td>\n",
              "      <td>1/1/18</td>\n",
              "      <td>House Ads</td>\n",
              "      <td>personalization</td>\n",
              "      <td>German</td>\n",
              "      <td>True</td>\n",
              "      <td>House Ads</td>\n",
              "      <td>1/1/18</td>\n",
              "      <td>NaN</td>\n",
              "      <td>True</td>\n",
              "    </tr>\n",
              "    <tr>\n",
              "      <th>6</th>\n",
              "      <td>a1006</td>\n",
              "      <td>55+ years</td>\n",
              "      <td>English</td>\n",
              "      <td>1/1/18</td>\n",
              "      <td>House Ads</td>\n",
              "      <td>personalization</td>\n",
              "      <td>English</td>\n",
              "      <td>True</td>\n",
              "      <td>House Ads</td>\n",
              "      <td>1/1/18</td>\n",
              "      <td>NaN</td>\n",
              "      <td>True</td>\n",
              "    </tr>\n",
              "    <tr>\n",
              "      <th>7</th>\n",
              "      <td>a1007</td>\n",
              "      <td>0-18 years</td>\n",
              "      <td>English</td>\n",
              "      <td>1/1/18</td>\n",
              "      <td>House Ads</td>\n",
              "      <td>personalization</td>\n",
              "      <td>English</td>\n",
              "      <td>True</td>\n",
              "      <td>House Ads</td>\n",
              "      <td>1/1/18</td>\n",
              "      <td>NaN</td>\n",
              "      <td>True</td>\n",
              "    </tr>\n",
              "    <tr>\n",
              "      <th>8</th>\n",
              "      <td>a1008</td>\n",
              "      <td>19-24 years</td>\n",
              "      <td>English</td>\n",
              "      <td>1/1/18</td>\n",
              "      <td>House Ads</td>\n",
              "      <td>personalization</td>\n",
              "      <td>English</td>\n",
              "      <td>True</td>\n",
              "      <td>House Ads</td>\n",
              "      <td>1/1/18</td>\n",
              "      <td>NaN</td>\n",
              "      <td>True</td>\n",
              "    </tr>\n",
              "    <tr>\n",
              "      <th>9</th>\n",
              "      <td>a1009</td>\n",
              "      <td>24-30 years</td>\n",
              "      <td>English</td>\n",
              "      <td>1/1/18</td>\n",
              "      <td>House Ads</td>\n",
              "      <td>personalization</td>\n",
              "      <td>English</td>\n",
              "      <td>True</td>\n",
              "      <td>House Ads</td>\n",
              "      <td>1/1/18</td>\n",
              "      <td>NaN</td>\n",
              "      <td>True</td>\n",
              "    </tr>\n",
              "  </tbody>\n",
              "</table>\n",
              "</div>"
            ],
            "text/plain": [
              "  user_id    age_group  ... date_canceled is_retained\n",
              "0   a1000   0-18 years  ...           NaN        True\n",
              "1   a1001  19-24 years  ...           NaN        True\n",
              "2   a1002  24-30 years  ...           NaN        True\n",
              "3   a1003  30-36 years  ...           NaN        True\n",
              "4   a1004  36-45 years  ...           NaN        True\n",
              "5   a1005  45-55 years  ...           NaN        True\n",
              "6   a1006    55+ years  ...           NaN        True\n",
              "7   a1007   0-18 years  ...           NaN        True\n",
              "8   a1008  19-24 years  ...           NaN        True\n",
              "9   a1009  24-30 years  ...           NaN        True\n",
              "\n",
              "[10 rows x 12 columns]"
            ]
          },
          "metadata": {
            "tags": []
          },
          "execution_count": 0
        }
      ]
    },
    {
      "cell_type": "markdown",
      "metadata": {
        "id": "uXKq-B2sEP7I"
      },
      "source": [
        "# **Определение датасета**"
      ]
    },
    {
      "cell_type": "code",
      "metadata": {
        "colab": {
          "background_save": true
        },
        "id": "0nmesXk7Blbn",
        "outputId": "7c9e81a4-80ee-4d25-93a3-1a7f391bb024"
      },
      "source": [
        "df_merge.info()"
      ],
      "execution_count": null,
      "outputs": [
        {
          "output_type": "stream",
          "text": [
            "<class 'pandas.core.frame.DataFrame'>\n",
            "Int64Index: 10037 entries, 0 to 10036\n",
            "Data columns (total 12 columns):\n",
            " #   Column               Non-Null Count  Dtype \n",
            "---  ------               --------------  ----- \n",
            " 0   user_id              10037 non-null  object\n",
            " 1   age_group            10037 non-null  object\n",
            " 2   language_preferred   10037 non-null  object\n",
            " 3   date_served          10021 non-null  object\n",
            " 4   marketing_channel    10022 non-null  object\n",
            " 5   variant              10037 non-null  object\n",
            " 6   language_displayed   10037 non-null  object\n",
            " 7   converted            10022 non-null  object\n",
            " 8   subscribing_channel  1856 non-null   object\n",
            " 9   date_subscribed      1856 non-null   object\n",
            " 10  date_canceled        577 non-null    object\n",
            " 11  is_retained          1856 non-null   object\n",
            "dtypes: object(12)\n",
            "memory usage: 1019.4+ KB\n"
          ],
          "name": "stdout"
        }
      ]
    },
    {
      "cell_type": "markdown",
      "metadata": {
        "id": "R9LYi5DUEXQ0"
      },
      "source": [
        "# **Определение по эффективности**"
      ]
    },
    {
      "cell_type": "code",
      "metadata": {
        "colab": {
          "background_save": true
        },
        "id": "gO6N5ioqCHTy",
        "outputId": "b445d6f7-44b8-47b6-ddf4-d10aebd4ea72"
      },
      "source": [
        "df_merge['marketing_channel'].loc[df_merge['converted'] == True].value_counts()"
      ],
      "execution_count": null,
      "outputs": [
        {
          "output_type": "execute_result",
          "data": {
            "text/plain": [
              "House Ads    298\n",
              "Instagram    265\n",
              "Facebook     237\n",
              "Email        193\n",
              "Push          83\n",
              "Name: marketing_channel, dtype: int64"
            ]
          },
          "metadata": {
            "tags": []
          },
          "execution_count": 0
        }
      ]
    },
    {
      "cell_type": "markdown",
      "metadata": {
        "id": "ZZp6msvuD15Z"
      },
      "source": [
        "# **Определение самой ранней подписки**"
      ]
    },
    {
      "cell_type": "code",
      "metadata": {
        "colab": {
          "background_save": true
        },
        "id": "F-LuSHWyCvlQ",
        "outputId": "a416812b-4029-4f85-f27f-754de5a44bae"
      },
      "source": [
        "df_merge['date_subscribed'].sort_values(ascending = True).head(1)"
      ],
      "execution_count": null,
      "outputs": [
        {
          "output_type": "execute_result",
          "data": {
            "text/plain": [
              "0    1/1/18\n",
              "Name: date_subscribed, dtype: object"
            ]
          },
          "metadata": {
            "tags": []
          },
          "execution_count": 0
        }
      ]
    },
    {
      "cell_type": "markdown",
      "metadata": {
        "id": "UPtFyCe3Eum7"
      },
      "source": [
        "# **Определение аудитории** (по возрасту)"
      ]
    },
    {
      "cell_type": "code",
      "metadata": {
        "colab": {
          "background_save": true
        },
        "id": "d3j8fLwMEtS2",
        "outputId": "af7888d2-d13a-4f35-fd45-f205cb2aa336"
      },
      "source": [
        "df_merge['age_group'].loc[df_merge['is_retained'] == True].value_counts().head(10)"
      ],
      "execution_count": null,
      "outputs": [
        {
          "output_type": "execute_result",
          "data": {
            "text/plain": [
              "19-24 years    326\n",
              "24-30 years    273\n",
              "0-18 years     229\n",
              "30-36 years    122\n",
              "45-55 years    119\n",
              "36-45 years    115\n",
              "55+ years       95\n",
              "Name: age_group, dtype: int64"
            ]
          },
          "metadata": {
            "tags": []
          },
          "execution_count": 0
        }
      ]
    }
  ]
}