{
  "nbformat": 4,
  "nbformat_minor": 0,
  "metadata": {
    "colab": {
      "name": "ДЗ 8",
      "provenance": [],
      "collapsed_sections": [],
      "authorship_tag": "ABX9TyPbECMv2KikoIm8cqe4Mdm0",
      "include_colab_link": true
    },
    "kernelspec": {
      "name": "python3",
      "display_name": "Python 3"
    },
    "language_info": {
      "name": "python"
    }
  },
  "cells": [
    {
      "cell_type": "markdown",
      "metadata": {
        "id": "view-in-github",
        "colab_type": "text"
      },
      "source": [
        "<a href=\"https://colab.research.google.com/github/yarnikitin/-/blob/master/%D0%94%D0%97_8.ipynb\" target=\"_parent\"><img src=\"https://colab.research.google.com/assets/colab-badge.svg\" alt=\"Open In Colab\"/></a>"
      ]
    },
    {
      "cell_type": "code",
      "metadata": {
        "id": "fiKBCf3JL0MT"
      },
      "source": [
        "import pandas as pd\n",
        "import numpy as np"
      ],
      "execution_count": 4,
      "outputs": []
    },
    {
      "cell_type": "code",
      "metadata": {
        "colab": {
          "base_uri": "https://localhost:8080/",
          "height": 458
        },
        "id": "Fpp6MZL16i6w",
        "outputId": "789760f6-5897-42a2-f7e1-5d6e142e6b32"
      },
      "source": [
        "df = pd.read_excel('https://www1.nyc.gov/html/gbee/downloads/excel/nyc_benchmarking_disclosure_2017_consumption_data.xlsx',sheet_name = 1)\n",
        "df.head()"
      ],
      "execution_count": 5,
      "outputs": [
        {
          "output_type": "execute_result",
          "data": {
            "text/html": [
              "<div>\n",
              "<style scoped>\n",
              "    .dataframe tbody tr th:only-of-type {\n",
              "        vertical-align: middle;\n",
              "    }\n",
              "\n",
              "    .dataframe tbody tr th {\n",
              "        vertical-align: top;\n",
              "    }\n",
              "\n",
              "    .dataframe thead th {\n",
              "        text-align: right;\n",
              "    }\n",
              "</style>\n",
              "<table border=\"1\" class=\"dataframe\">\n",
              "  <thead>\n",
              "    <tr style=\"text-align: right;\">\n",
              "      <th></th>\n",
              "      <th>Order</th>\n",
              "      <th>Property Id</th>\n",
              "      <th>Property Name</th>\n",
              "      <th>Parent Property Id</th>\n",
              "      <th>Parent Property Name</th>\n",
              "      <th>BBL - 10 digits</th>\n",
              "      <th>NYC Borough, Block and Lot (BBL) self-reported</th>\n",
              "      <th>NYC Building Identification Number (BIN)</th>\n",
              "      <th>Address 1 (self-reported)</th>\n",
              "      <th>Address 2 (self-reported)</th>\n",
              "      <th>Postal Code</th>\n",
              "      <th>Street Number</th>\n",
              "      <th>Street Name</th>\n",
              "      <th>Borough</th>\n",
              "      <th>DOF Gross Floor Area (ft²)</th>\n",
              "      <th>Self-Reported Gross Floor Area (ft²)</th>\n",
              "      <th>Primary Property Type - Self Selected</th>\n",
              "      <th>List of All Property Use Types at Property</th>\n",
              "      <th>Largest Property Use Type</th>\n",
              "      <th>Largest Property Use Type - Gross Floor Area (ft²)</th>\n",
              "      <th>2nd Largest Property Use Type</th>\n",
              "      <th>2nd Largest Property Use - Gross Floor Area (ft²)</th>\n",
              "      <th>3rd Largest Property Use Type</th>\n",
              "      <th>3rd Largest Property Use Type - Gross Floor Area (ft²)</th>\n",
              "      <th>Year Built</th>\n",
              "      <th>Number of Buildings</th>\n",
              "      <th>Occupancy</th>\n",
              "      <th>Metered Areas (Energy)</th>\n",
              "      <th>Metered Areas  (Water)</th>\n",
              "      <th>ENERGY STAR Score</th>\n",
              "      <th>Source EUI (kBtu/ft²)</th>\n",
              "      <th>Weather Normalized Source EUI (kBtu/ft²)</th>\n",
              "      <th>Site EUI (kBtu/ft²)</th>\n",
              "      <th>Weather Normalized Site EUI (kBtu/ft²)</th>\n",
              "      <th>Weather Normalized Site Electricity Intensity (kWh/ft²)</th>\n",
              "      <th>Weather Normalized Site Natural Gas Intensity (therms/ft²)</th>\n",
              "      <th>Fuel Oil #1 Use (kBtu)</th>\n",
              "      <th>Fuel Oil #2 Use (kBtu)</th>\n",
              "      <th>Fuel Oil #4 Use (kBtu)</th>\n",
              "      <th>Fuel Oil #5 &amp; 6 Use (kBtu)</th>\n",
              "      <th>Diesel #2 Use (kBtu)</th>\n",
              "      <th>Propane Use (kBtu)</th>\n",
              "      <th>District Steam Use (kBtu)</th>\n",
              "      <th>District Hot Water Use (kBtu)</th>\n",
              "      <th>District Chilled Water Use (kBtu)</th>\n",
              "      <th>Natural Gas Use (kBtu)</th>\n",
              "      <th>Weather Normalized Site Natural Gas Use (therms)</th>\n",
              "      <th>Electricity Use - Grid Purchase (kBtu)</th>\n",
              "      <th>Electricity Use - Grid Purchase (kWh)</th>\n",
              "      <th>Weather Normalized Site Electricity (kWh)</th>\n",
              "      <th>Annual Maximum Demand (kW)</th>\n",
              "      <th>Annual Maximum Demand (MM/YYYY)</th>\n",
              "      <th>Total GHG Emissions (Metric Tons CO2e)</th>\n",
              "      <th>Direct GHG Emissions (Metric Tons CO2e)</th>\n",
              "      <th>Indirect GHG Emissions (Metric Tons CO2e)</th>\n",
              "      <th>Water Use (All Water Sources) (kgal)</th>\n",
              "      <th>Water Use Intensity (All Water Sources) (gal/ft²)</th>\n",
              "      <th>Water Required?</th>\n",
              "      <th>Generation Date</th>\n",
              "      <th>DOF Benchmarking Submission Status</th>\n",
              "    </tr>\n",
              "  </thead>\n",
              "  <tbody>\n",
              "    <tr>\n",
              "      <th>0</th>\n",
              "      <td>1</td>\n",
              "      <td>4593574</td>\n",
              "      <td>The Argonaut Building</td>\n",
              "      <td>NaN</td>\n",
              "      <td>NaN</td>\n",
              "      <td>1.010288e+09</td>\n",
              "      <td>1010287502</td>\n",
              "      <td>1024898</td>\n",
              "      <td>224 West 57th St</td>\n",
              "      <td>NaN</td>\n",
              "      <td>10019</td>\n",
              "      <td>Not found</td>\n",
              "      <td>Not found</td>\n",
              "      <td>Manhattan</td>\n",
              "      <td>Not found</td>\n",
              "      <td>169416</td>\n",
              "      <td>Office</td>\n",
              "      <td>Bank Branch, Office</td>\n",
              "      <td>Office</td>\n",
              "      <td>164754.0</td>\n",
              "      <td>Bank Branch</td>\n",
              "      <td>4662.0</td>\n",
              "      <td>NaN</td>\n",
              "      <td>NaN</td>\n",
              "      <td>1909</td>\n",
              "      <td>1</td>\n",
              "      <td>95</td>\n",
              "      <td>Whole Building</td>\n",
              "      <td>Whole Building</td>\n",
              "      <td>90.0</td>\n",
              "      <td>138.4</td>\n",
              "      <td>141.0</td>\n",
              "      <td>53.8</td>\n",
              "      <td>56.2</td>\n",
              "      <td>11.3</td>\n",
              "      <td>0.1</td>\n",
              "      <td>NaN</td>\n",
              "      <td>NaN</td>\n",
              "      <td>NaN</td>\n",
              "      <td>NaN</td>\n",
              "      <td>NaN</td>\n",
              "      <td>NaN</td>\n",
              "      <td>1133475.1</td>\n",
              "      <td>NaN</td>\n",
              "      <td>NaN</td>\n",
              "      <td>1435754.7</td>\n",
              "      <td>16672.2</td>\n",
              "      <td>6551394.1</td>\n",
              "      <td>1920103.6</td>\n",
              "      <td>1920103.6</td>\n",
              "      <td>NaN</td>\n",
              "      <td>NaT</td>\n",
              "      <td>732.4</td>\n",
              "      <td>76.3</td>\n",
              "      <td>656.1</td>\n",
              "      <td>3635.5</td>\n",
              "      <td>21.46</td>\n",
              "      <td>Not found</td>\n",
              "      <td>2018-02-14</td>\n",
              "      <td>Not found</td>\n",
              "    </tr>\n",
              "    <tr>\n",
              "      <th>1</th>\n",
              "      <td>3</td>\n",
              "      <td>2967701</td>\n",
              "      <td>Cathedral Preparatory Seminary</td>\n",
              "      <td>NaN</td>\n",
              "      <td>NaN</td>\n",
              "      <td>4.018720e+09</td>\n",
              "      <td>4-01872-0007</td>\n",
              "      <td>4046340</td>\n",
              "      <td>56-25 92nd Street</td>\n",
              "      <td>NaN</td>\n",
              "      <td>11373</td>\n",
              "      <td>Not found</td>\n",
              "      <td>Not found</td>\n",
              "      <td>Queens</td>\n",
              "      <td>Not found</td>\n",
              "      <td>94380</td>\n",
              "      <td>K-12 School</td>\n",
              "      <td>K-12 School</td>\n",
              "      <td>K-12 School</td>\n",
              "      <td>94380.0</td>\n",
              "      <td>NaN</td>\n",
              "      <td>NaN</td>\n",
              "      <td>NaN</td>\n",
              "      <td>NaN</td>\n",
              "      <td>1963</td>\n",
              "      <td>1</td>\n",
              "      <td>100</td>\n",
              "      <td>Whole Building</td>\n",
              "      <td>NaN</td>\n",
              "      <td>100.0</td>\n",
              "      <td>43.5</td>\n",
              "      <td>46.8</td>\n",
              "      <td>28.4</td>\n",
              "      <td>31.3</td>\n",
              "      <td>2.0</td>\n",
              "      <td>0.2</td>\n",
              "      <td>NaN</td>\n",
              "      <td>NaN</td>\n",
              "      <td>NaN</td>\n",
              "      <td>NaN</td>\n",
              "      <td>NaN</td>\n",
              "      <td>NaN</td>\n",
              "      <td>NaN</td>\n",
              "      <td>NaN</td>\n",
              "      <td>NaN</td>\n",
              "      <td>2068300.1</td>\n",
              "      <td>23243.7</td>\n",
              "      <td>616343.7</td>\n",
              "      <td>180640.0</td>\n",
              "      <td>184131.9</td>\n",
              "      <td>NaN</td>\n",
              "      <td>NaT</td>\n",
              "      <td>164.5</td>\n",
              "      <td>109.9</td>\n",
              "      <td>54.6</td>\n",
              "      <td>102.9</td>\n",
              "      <td>1.09</td>\n",
              "      <td>Not found</td>\n",
              "      <td>2018-02-14</td>\n",
              "      <td>Not found</td>\n",
              "    </tr>\n",
              "    <tr>\n",
              "      <th>2</th>\n",
              "      <td>4</td>\n",
              "      <td>4898531</td>\n",
              "      <td>The Nomad Hotel</td>\n",
              "      <td>NaN</td>\n",
              "      <td>NaN</td>\n",
              "      <td>1.008290e+09</td>\n",
              "      <td>1-00829-0050</td>\n",
              "      <td>1080710</td>\n",
              "      <td>1170 Broadway</td>\n",
              "      <td>NaN</td>\n",
              "      <td>10001-7507</td>\n",
              "      <td>Not found</td>\n",
              "      <td>Not found</td>\n",
              "      <td>Manhattan</td>\n",
              "      <td>Not found</td>\n",
              "      <td>125000</td>\n",
              "      <td>Hotel</td>\n",
              "      <td>Hotel</td>\n",
              "      <td>Hotel</td>\n",
              "      <td>125000.0</td>\n",
              "      <td>NaN</td>\n",
              "      <td>NaN</td>\n",
              "      <td>NaN</td>\n",
              "      <td>NaN</td>\n",
              "      <td>1999</td>\n",
              "      <td>1</td>\n",
              "      <td>85</td>\n",
              "      <td>Whole Building</td>\n",
              "      <td>Whole Building</td>\n",
              "      <td>83.0</td>\n",
              "      <td>271.1</td>\n",
              "      <td>274.7</td>\n",
              "      <td>130.2</td>\n",
              "      <td>133.7</td>\n",
              "      <td>18.8</td>\n",
              "      <td>0.7</td>\n",
              "      <td>NaN</td>\n",
              "      <td>NaN</td>\n",
              "      <td>NaN</td>\n",
              "      <td>NaN</td>\n",
              "      <td>NaN</td>\n",
              "      <td>NaN</td>\n",
              "      <td>NaN</td>\n",
              "      <td>NaN</td>\n",
              "      <td>NaN</td>\n",
              "      <td>8245445.1</td>\n",
              "      <td>86776.9</td>\n",
              "      <td>8033914.4</td>\n",
              "      <td>2354605.3</td>\n",
              "      <td>2354605.3</td>\n",
              "      <td>NaN</td>\n",
              "      <td>NaT</td>\n",
              "      <td>1150.2</td>\n",
              "      <td>438.0</td>\n",
              "      <td>712.3</td>\n",
              "      <td>10762.6</td>\n",
              "      <td>86.10</td>\n",
              "      <td>Not found</td>\n",
              "      <td>2018-02-14</td>\n",
              "      <td>Not found</td>\n",
              "    </tr>\n",
              "    <tr>\n",
              "      <th>3</th>\n",
              "      <td>5</td>\n",
              "      <td>2917939</td>\n",
              "      <td>10 West 27 Street Corp</td>\n",
              "      <td>NaN</td>\n",
              "      <td>NaN</td>\n",
              "      <td>1.008280e+09</td>\n",
              "      <td>1-00828-0053</td>\n",
              "      <td>1015657</td>\n",
              "      <td>1155 Broadway</td>\n",
              "      <td>NaN</td>\n",
              "      <td>10001</td>\n",
              "      <td>Not found</td>\n",
              "      <td>Not found</td>\n",
              "      <td>Manhattan</td>\n",
              "      <td>Not found</td>\n",
              "      <td>50000</td>\n",
              "      <td>Hotel</td>\n",
              "      <td>Hotel</td>\n",
              "      <td>Hotel</td>\n",
              "      <td>50000.0</td>\n",
              "      <td>NaN</td>\n",
              "      <td>NaN</td>\n",
              "      <td>NaN</td>\n",
              "      <td>NaN</td>\n",
              "      <td>1994</td>\n",
              "      <td>1</td>\n",
              "      <td>100</td>\n",
              "      <td>Whole Building</td>\n",
              "      <td>NaN</td>\n",
              "      <td>27.0</td>\n",
              "      <td>163.0</td>\n",
              "      <td>167.9</td>\n",
              "      <td>76.5</td>\n",
              "      <td>80.8</td>\n",
              "      <td>11.7</td>\n",
              "      <td>0.4</td>\n",
              "      <td>NaN</td>\n",
              "      <td>NaN</td>\n",
              "      <td>NaN</td>\n",
              "      <td>NaN</td>\n",
              "      <td>NaN</td>\n",
              "      <td>NaN</td>\n",
              "      <td>NaN</td>\n",
              "      <td>NaN</td>\n",
              "      <td>NaN</td>\n",
              "      <td>1848519.4</td>\n",
              "      <td>20520.9</td>\n",
              "      <td>1976691.9</td>\n",
              "      <td>579335.2</td>\n",
              "      <td>582516.1</td>\n",
              "      <td>NaN</td>\n",
              "      <td>NaT</td>\n",
              "      <td>273.4</td>\n",
              "      <td>98.2</td>\n",
              "      <td>175.3</td>\n",
              "      <td>790.1</td>\n",
              "      <td>15.80</td>\n",
              "      <td>Not found</td>\n",
              "      <td>2018-02-14</td>\n",
              "      <td>Not found</td>\n",
              "    </tr>\n",
              "    <tr>\n",
              "      <th>4</th>\n",
              "      <td>6</td>\n",
              "      <td>3878205</td>\n",
              "      <td>Westbury Realty</td>\n",
              "      <td>NaN</td>\n",
              "      <td>NaN</td>\n",
              "      <td>1.000650e+09</td>\n",
              "      <td>1-00065-0024</td>\n",
              "      <td>1001105</td>\n",
              "      <td>24 John Street</td>\n",
              "      <td>NaN</td>\n",
              "      <td>10038</td>\n",
              "      <td>Not found</td>\n",
              "      <td>Not found</td>\n",
              "      <td>Manhattan</td>\n",
              "      <td>Not found</td>\n",
              "      <td>50000</td>\n",
              "      <td>Hotel</td>\n",
              "      <td>Hotel</td>\n",
              "      <td>Hotel</td>\n",
              "      <td>50000.0</td>\n",
              "      <td>NaN</td>\n",
              "      <td>NaN</td>\n",
              "      <td>NaN</td>\n",
              "      <td>NaN</td>\n",
              "      <td>2012</td>\n",
              "      <td>1</td>\n",
              "      <td>0</td>\n",
              "      <td>Whole Building</td>\n",
              "      <td>Whole Building</td>\n",
              "      <td>99.0</td>\n",
              "      <td>64.2</td>\n",
              "      <td>64.2</td>\n",
              "      <td>20.5</td>\n",
              "      <td>20.5</td>\n",
              "      <td>6.0</td>\n",
              "      <td>NaN</td>\n",
              "      <td>NaN</td>\n",
              "      <td>NaN</td>\n",
              "      <td>NaN</td>\n",
              "      <td>NaN</td>\n",
              "      <td>NaN</td>\n",
              "      <td>NaN</td>\n",
              "      <td>NaN</td>\n",
              "      <td>NaN</td>\n",
              "      <td>NaN</td>\n",
              "      <td>NaN</td>\n",
              "      <td>NaN</td>\n",
              "      <td>1022951.6</td>\n",
              "      <td>299809.9</td>\n",
              "      <td>299809.9</td>\n",
              "      <td>NaN</td>\n",
              "      <td>NaT</td>\n",
              "      <td>90.7</td>\n",
              "      <td>0.0</td>\n",
              "      <td>90.7</td>\n",
              "      <td>143.0</td>\n",
              "      <td>2.86</td>\n",
              "      <td>Not found</td>\n",
              "      <td>2018-02-14</td>\n",
              "      <td>Not found</td>\n",
              "    </tr>\n",
              "  </tbody>\n",
              "</table>\n",
              "</div>"
            ],
            "text/plain": [
              "   Order  Property Id  ... Generation Date DOF Benchmarking Submission Status\n",
              "0      1      4593574  ...      2018-02-14                          Not found\n",
              "1      3      2967701  ...      2018-02-14                          Not found\n",
              "2      4      4898531  ...      2018-02-14                          Not found\n",
              "3      5      2917939  ...      2018-02-14                          Not found\n",
              "4      6      3878205  ...      2018-02-14                          Not found\n",
              "\n",
              "[5 rows x 60 columns]"
            ]
          },
          "metadata": {
            "tags": []
          },
          "execution_count": 5
        }
      ]
    },
    {
      "cell_type": "code",
      "metadata": {
        "colab": {
          "base_uri": "https://localhost:8080/"
        },
        "id": "5zMtbAi3811A",
        "outputId": "16d7fdff-e9ae-4703-ec2e-34907313ab3e"
      },
      "source": [
        "df.info()"
      ],
      "execution_count": 6,
      "outputs": [
        {
          "output_type": "stream",
          "text": [
            "<class 'pandas.core.frame.DataFrame'>\n",
            "RangeIndex: 34355 entries, 0 to 34354\n",
            "Data columns (total 60 columns):\n",
            " #   Column                                                      Non-Null Count  Dtype         \n",
            "---  ------                                                      --------------  -----         \n",
            " 0   Order                                                       34355 non-null  int64         \n",
            " 1   Property Id                                                 34355 non-null  int64         \n",
            " 2   Property Name                                               34355 non-null  object        \n",
            " 3   Parent Property Id                                          1723 non-null   object        \n",
            " 4   Parent Property Name                                        1723 non-null   object        \n",
            " 5   BBL - 10 digits                                             33625 non-null  float64       \n",
            " 6   NYC Borough, Block and Lot (BBL) self-reported              33626 non-null  object        \n",
            " 7   NYC Building Identification Number (BIN)                    33123 non-null  object        \n",
            " 8   Address 1 (self-reported)                                   34355 non-null  object        \n",
            " 9   Address 2 (self-reported)                                   427 non-null    object        \n",
            " 10  Postal Code                                                 34355 non-null  object        \n",
            " 11  Street Number                                               34355 non-null  object        \n",
            " 12  Street Name                                                 34355 non-null  object        \n",
            " 13  Borough                                                     34355 non-null  object        \n",
            " 14  DOF Gross Floor Area (ft²)                                  34355 non-null  object        \n",
            " 15  Self-Reported Gross Floor Area (ft²)                        34355 non-null  int64         \n",
            " 16  Primary Property Type - Self Selected                       34355 non-null  object        \n",
            " 17  List of All Property Use Types at Property                  34342 non-null  object        \n",
            " 18  Largest Property Use Type                                   34323 non-null  object        \n",
            " 19  Largest Property Use Type - Gross Floor Area (ft²)          34323 non-null  float64       \n",
            " 20  2nd Largest Property Use Type                               7226 non-null   object        \n",
            " 21  2nd Largest Property Use - Gross Floor Area (ft²)           7226 non-null   float64       \n",
            " 22  3rd Largest Property Use Type                               2450 non-null   object        \n",
            " 23  3rd Largest Property Use Type - Gross Floor Area (ft²)      2450 non-null   float64       \n",
            " 24  Year Built                                                  34355 non-null  int64         \n",
            " 25  Number of Buildings                                         34355 non-null  int64         \n",
            " 26  Occupancy                                                   34355 non-null  int64         \n",
            " 27  Metered Areas (Energy)                                      31710 non-null  object        \n",
            " 28  Metered Areas  (Water)                                      14546 non-null  object        \n",
            " 29  ENERGY STAR Score                                           25454 non-null  float64       \n",
            " 30  Source EUI (kBtu/ft²)                                       31888 non-null  float64       \n",
            " 31  Weather Normalized Source EUI (kBtu/ft²)                    28560 non-null  float64       \n",
            " 32  Site EUI (kBtu/ft²)                                         31888 non-null  float64       \n",
            " 33  Weather Normalized Site EUI (kBtu/ft²)                      28560 non-null  float64       \n",
            " 34  Weather Normalized Site Electricity Intensity (kWh/ft²)     31001 non-null  float64       \n",
            " 35  Weather Normalized Site Natural Gas Intensity (therms/ft²)  28042 non-null  float64       \n",
            " 36  Fuel Oil #1 Use (kBtu)                                      36 non-null     float64       \n",
            " 37  Fuel Oil #2 Use (kBtu)                                      5664 non-null   float64       \n",
            " 38  Fuel Oil #4 Use (kBtu)                                      2378 non-null   float64       \n",
            " 39  Fuel Oil #5 & 6 Use (kBtu)                                  484 non-null    float64       \n",
            " 40  Diesel #2 Use (kBtu)                                        70 non-null     float64       \n",
            " 41  Propane Use (kBtu)                                          1 non-null      float64       \n",
            " 42  District Steam Use (kBtu)                                   1568 non-null   float64       \n",
            " 43  District Hot Water Use (kBtu)                               8 non-null      float64       \n",
            " 44  District Chilled Water Use (kBtu)                           30 non-null     float64       \n",
            " 45  Natural Gas Use (kBtu)                                      28819 non-null  float64       \n",
            " 46  Weather Normalized Site Natural Gas Use (therms)            28047 non-null  float64       \n",
            " 47  Electricity Use - Grid Purchase (kBtu)                      31576 non-null  float64       \n",
            " 48  Electricity Use - Grid Purchase (kWh)                       31576 non-null  float64       \n",
            " 49  Weather Normalized Site Electricity (kWh)                   31013 non-null  float64       \n",
            " 50  Annual Maximum Demand (kW)                                  2383 non-null   float64       \n",
            " 51  Annual Maximum Demand (MM/YYYY)                             2383 non-null   datetime64[ns]\n",
            " 52  Total GHG Emissions (Metric Tons CO2e)                      32957 non-null  float64       \n",
            " 53  Direct GHG Emissions (Metric Tons CO2e)                     33116 non-null  float64       \n",
            " 54  Indirect GHG Emissions (Metric Tons CO2e)                   33088 non-null  float64       \n",
            " 55  Water Use (All Water Sources) (kgal)                        18280 non-null  float64       \n",
            " 56  Water Use Intensity (All Water Sources) (gal/ft²)           18271 non-null  float64       \n",
            " 57  Water Required?                                             34355 non-null  object        \n",
            " 58  Generation Date                                             34355 non-null  datetime64[ns]\n",
            " 59  DOF Benchmarking Submission Status                          34355 non-null  object        \n",
            "dtypes: datetime64[ns](2), float64(31), int64(6), object(21)\n",
            "memory usage: 15.7+ MB\n"
          ],
          "name": "stdout"
        }
      ]
    },
    {
      "cell_type": "code",
      "metadata": {
        "id": "7DDPFzTj7sTe"
      },
      "source": [
        "df2 = df.copy()"
      ],
      "execution_count": 7,
      "outputs": []
    },
    {
      "cell_type": "code",
      "metadata": {
        "id": "85bDOi-C8sou"
      },
      "source": [
        "df2 = df2.loc[df2['ENERGY STAR Score'] > 0]"
      ],
      "execution_count": 8,
      "outputs": []
    },
    {
      "cell_type": "code",
      "metadata": {
        "id": "9s-EWYUN9aHn"
      },
      "source": [
        "df2 = df2.select_dtypes(['int','float']).drop(['Order','Property Id','BBL - 10 digits'], axis = 1)"
      ],
      "execution_count": 9,
      "outputs": []
    },
    {
      "cell_type": "code",
      "metadata": {
        "id": "PPgikGWb-VmO"
      },
      "source": [
        "X0 = df2.copy()\n",
        "y0 = X0.pop('ENERGY STAR Score')"
      ],
      "execution_count": 10,
      "outputs": []
    },
    {
      "cell_type": "code",
      "metadata": {
        "id": "DGVQ4z-b-i_T"
      },
      "source": [
        "from sklearn.model_selection import train_test_split\n",
        "X_train0, X_test0, y_train0, y_test0 = train_test_split(X0, y0, test_size = 0.2, shuffle = True, random_state = 10)"
      ],
      "execution_count": 11,
      "outputs": []
    },
    {
      "cell_type": "code",
      "metadata": {
        "id": "jgQgWSqw_MZB"
      },
      "source": [
        "def iqr(df):\n",
        "  for col in df.columns:\n",
        "    min = df[col].quantile(0.25) - 3 * (df[col].quantile(0.75) - df[col].quantile(0.25))\n",
        "    max = df[col].quantile(0.75) + 3 * (df[col].quantile(0.75) - df[col].quantile(0.25))\n",
        "    return df[df[col].between(min, max)]"
      ],
      "execution_count": 12,
      "outputs": []
    },
    {
      "cell_type": "code",
      "metadata": {
        "colab": {
          "base_uri": "https://localhost:8080/"
        },
        "id": "ZxtJN6Yc_-Zi",
        "outputId": "01c3806e-8dd4-4bd4-d9cc-553e92f6985d"
      },
      "source": [
        "X_train0.shape"
      ],
      "execution_count": 13,
      "outputs": [
        {
          "output_type": "execute_result",
          "data": {
            "text/plain": [
              "(20363, 33)"
            ]
          },
          "metadata": {
            "tags": []
          },
          "execution_count": 13
        }
      ]
    },
    {
      "cell_type": "code",
      "metadata": {
        "id": "dBqIqwGYAGad"
      },
      "source": [
        "X_train0 = iqr(X_train0)"
      ],
      "execution_count": 14,
      "outputs": []
    },
    {
      "cell_type": "code",
      "metadata": {
        "colab": {
          "base_uri": "https://localhost:8080/"
        },
        "id": "LV3lTMufAksy",
        "outputId": "531f9b1b-7b6f-4ba9-c878-d71293e8ef06"
      },
      "source": [
        "y_train0.shape"
      ],
      "execution_count": 15,
      "outputs": [
        {
          "output_type": "execute_result",
          "data": {
            "text/plain": [
              "(20363,)"
            ]
          },
          "metadata": {
            "tags": []
          },
          "execution_count": 15
        }
      ]
    },
    {
      "cell_type": "code",
      "metadata": {
        "id": "tFXNdWAsAvPU"
      },
      "source": [
        "y_train0 =  y_train0[X_train0.index]"
      ],
      "execution_count": 16,
      "outputs": []
    },
    {
      "cell_type": "code",
      "metadata": {
        "colab": {
          "base_uri": "https://localhost:8080/"
        },
        "id": "ML3nQEMrBHvi",
        "outputId": "4ca5ddc7-0f06-4180-d4fb-7708c3f64f79"
      },
      "source": [
        "y_train0.shape"
      ],
      "execution_count": 17,
      "outputs": [
        {
          "output_type": "execute_result",
          "data": {
            "text/plain": [
              "(19232,)"
            ]
          },
          "metadata": {
            "tags": []
          },
          "execution_count": 17
        }
      ]
    },
    {
      "cell_type": "code",
      "metadata": {
        "id": "oyj0jY-nCC2A"
      },
      "source": [
        "from sklearn.impute import SimpleImputer\n",
        "si = SimpleImputer(strategy = 'mean')\n",
        "X_train0 = si.fit_transform(X_train0)\n",
        "X_test0 = si.transform(X_test0)"
      ],
      "execution_count": 18,
      "outputs": []
    },
    {
      "cell_type": "code",
      "metadata": {
        "colab": {
          "base_uri": "https://localhost:8080/"
        },
        "id": "zSW4ms0ADAjY",
        "outputId": "c7b278c7-23e6-4e8d-d3a1-2e3bfbc69408"
      },
      "source": [
        "from sklearn.ensemble import RandomForestRegressor\n",
        "rf0 = RandomForestRegressor(n_estimators = 500, max_depth = 5, random_state = 21, n_jobs = -1)\n",
        "rf0.fit(X_train0, y_train0)"
      ],
      "execution_count": 19,
      "outputs": [
        {
          "output_type": "execute_result",
          "data": {
            "text/plain": [
              "RandomForestRegressor(bootstrap=True, ccp_alpha=0.0, criterion='mse',\n",
              "                      max_depth=5, max_features='auto', max_leaf_nodes=None,\n",
              "                      max_samples=None, min_impurity_decrease=0.0,\n",
              "                      min_impurity_split=None, min_samples_leaf=1,\n",
              "                      min_samples_split=2, min_weight_fraction_leaf=0.0,\n",
              "                      n_estimators=500, n_jobs=-1, oob_score=False,\n",
              "                      random_state=21, verbose=0, warm_start=False)"
            ]
          },
          "metadata": {
            "tags": []
          },
          "execution_count": 19
        }
      ]
    },
    {
      "cell_type": "code",
      "metadata": {
        "id": "m64v4n-IDjF9"
      },
      "source": [
        "pred_train0 = rf0.predict(X_train0)\n",
        "pred_test0 = rf0.predict(X_test0)"
      ],
      "execution_count": 20,
      "outputs": []
    },
    {
      "cell_type": "code",
      "metadata": {
        "colab": {
          "base_uri": "https://localhost:8080/"
        },
        "id": "kFE1M5EtD1tl",
        "outputId": "e45d133e-17b3-42f3-e1a9-344f628bd229"
      },
      "source": [
        "from sklearn.metrics import mean_absolute_error as MAE\n",
        "from sklearn.metrics import r2_score\n",
        "\n",
        "print('Train MAE:', MAE(y_train0, pred_train0))\n",
        "print('Test MAE:', MAE(y_test0, pred_test0))\n",
        "\n",
        "print('Train R2:', r2_score(y_train0, pred_train0))\n",
        "print('Test R2:', r2_score(y_test0, pred_test0))"
      ],
      "execution_count": 21,
      "outputs": [
        {
          "output_type": "stream",
          "text": [
            "Train MAE: 11.787593527988964\n",
            "Test MAE: 12.5259743022892\n",
            "Train R2: 0.7606396722259252\n",
            "Test R2: 0.72529987184182\n"
          ],
          "name": "stdout"
        }
      ]
    },
    {
      "cell_type": "code",
      "metadata": {
        "colab": {
          "base_uri": "https://localhost:8080/"
        },
        "id": "MLJLdIk0E1YW",
        "outputId": "047e10f0-5fbc-4937-9db7-2ca97d4e5b36"
      },
      "source": [
        "y_test0.mean()"
      ],
      "execution_count": 22,
      "outputs": [
        {
          "output_type": "execute_result",
          "data": {
            "text/plain": [
              "53.78805735611864"
            ]
          },
          "metadata": {
            "tags": []
          },
          "execution_count": 22
        }
      ]
    },
    {
      "cell_type": "code",
      "metadata": {
        "colab": {
          "base_uri": "https://localhost:8080/"
        },
        "id": "RWRE1zjHE7TO",
        "outputId": "e1090aac-832f-4789-ac8a-f227d480f3d8"
      },
      "source": [
        "12.5/53.78"
      ],
      "execution_count": 23,
      "outputs": [
        {
          "output_type": "execute_result",
          "data": {
            "text/plain": [
              "0.23242841204908887"
            ]
          },
          "metadata": {
            "tags": []
          },
          "execution_count": 23
        }
      ]
    },
    {
      "cell_type": "markdown",
      "metadata": {
        "id": "9V_imUM-FRs2"
      },
      "source": [
        "# **Чистка**"
      ]
    },
    {
      "cell_type": "code",
      "metadata": {
        "id": "cYArFn7VFUzP"
      },
      "source": [
        "df = df.loc[df['ENERGY STAR Score'] > 0]"
      ],
      "execution_count": 24,
      "outputs": []
    },
    {
      "cell_type": "code",
      "metadata": {
        "id": "NWSyTkfDFfSm"
      },
      "source": [
        "col_list = ['Order','Property Id','Property Name','Parent Property Id', \n",
        "            'Parent Property Name', 'BBL - 10 digits', 'NYC Borough, Block and Lot (BBL) self-reported',\n",
        "            'NYC Building Identification Number (BIN)', 'Postal Code', \n",
        "            'Street Number', 'Generation Date', 'DOF Benchmarking Submission Status']\n",
        "df = df.drop(columns = col_list, axis = 1)   "
      ],
      "execution_count": 25,
      "outputs": []
    },
    {
      "cell_type": "code",
      "metadata": {
        "colab": {
          "base_uri": "https://localhost:8080/"
        },
        "id": "amafzM-iILiS",
        "outputId": "f3f00bab-89ac-49c1-b9ae-f5fedbc5eb05"
      },
      "source": [
        "col_list2 = []\n",
        "for column in df.columns:\n",
        "  if df[column].isna().sum() / len(df) >=0.5:\n",
        "    col_list2.append(column)\n",
        "\n",
        "col_list2"
      ],
      "execution_count": 26,
      "outputs": [
        {
          "output_type": "execute_result",
          "data": {
            "text/plain": [
              "['Address 2 (self-reported)',\n",
              " '2nd Largest Property Use Type',\n",
              " '2nd Largest Property Use - Gross Floor Area (ft²)',\n",
              " '3rd Largest Property Use Type',\n",
              " '3rd Largest Property Use Type - Gross Floor Area (ft²)',\n",
              " 'Metered Areas  (Water)',\n",
              " 'Fuel Oil #1 Use (kBtu)',\n",
              " 'Fuel Oil #2 Use (kBtu)',\n",
              " 'Fuel Oil #4 Use (kBtu)',\n",
              " 'Fuel Oil #5 & 6 Use (kBtu)',\n",
              " 'Diesel #2 Use (kBtu)',\n",
              " 'Propane Use (kBtu)',\n",
              " 'District Steam Use (kBtu)',\n",
              " 'District Hot Water Use (kBtu)',\n",
              " 'District Chilled Water Use (kBtu)',\n",
              " 'Annual Maximum Demand (kW)',\n",
              " 'Annual Maximum Demand (MM/YYYY)']"
            ]
          },
          "metadata": {
            "tags": []
          },
          "execution_count": 26
        }
      ]
    },
    {
      "cell_type": "code",
      "metadata": {
        "id": "9Qjwkza7ScRN"
      },
      "source": [
        "df = df.drop(columns = col_list2, axis = 1)"
      ],
      "execution_count": 27,
      "outputs": []
    },
    {
      "cell_type": "code",
      "metadata": {
        "colab": {
          "base_uri": "https://localhost:8080/",
          "height": 189
        },
        "id": "r47x_7K-SniM",
        "outputId": "cb5bdb58-d4f0-4ada-9ec3-fdb5d9a1e395"
      },
      "source": [
        "df.describe(include = 'object')"
      ],
      "execution_count": 28,
      "outputs": [
        {
          "output_type": "execute_result",
          "data": {
            "text/html": [
              "<div>\n",
              "<style scoped>\n",
              "    .dataframe tbody tr th:only-of-type {\n",
              "        vertical-align: middle;\n",
              "    }\n",
              "\n",
              "    .dataframe tbody tr th {\n",
              "        vertical-align: top;\n",
              "    }\n",
              "\n",
              "    .dataframe thead th {\n",
              "        text-align: right;\n",
              "    }\n",
              "</style>\n",
              "<table border=\"1\" class=\"dataframe\">\n",
              "  <thead>\n",
              "    <tr style=\"text-align: right;\">\n",
              "      <th></th>\n",
              "      <th>Address 1 (self-reported)</th>\n",
              "      <th>Street Name</th>\n",
              "      <th>Borough</th>\n",
              "      <th>DOF Gross Floor Area (ft²)</th>\n",
              "      <th>Primary Property Type - Self Selected</th>\n",
              "      <th>List of All Property Use Types at Property</th>\n",
              "      <th>Largest Property Use Type</th>\n",
              "      <th>Metered Areas (Energy)</th>\n",
              "      <th>Water Required?</th>\n",
              "    </tr>\n",
              "  </thead>\n",
              "  <tbody>\n",
              "    <tr>\n",
              "      <th>count</th>\n",
              "      <td>25454</td>\n",
              "      <td>25454</td>\n",
              "      <td>25454</td>\n",
              "      <td>25454</td>\n",
              "      <td>25454</td>\n",
              "      <td>25454</td>\n",
              "      <td>25454</td>\n",
              "      <td>23909</td>\n",
              "      <td>25454</td>\n",
              "    </tr>\n",
              "    <tr>\n",
              "      <th>unique</th>\n",
              "      <td>17489</td>\n",
              "      <td>1</td>\n",
              "      <td>12</td>\n",
              "      <td>1</td>\n",
              "      <td>33</td>\n",
              "      <td>580</td>\n",
              "      <td>20</td>\n",
              "      <td>1</td>\n",
              "      <td>1</td>\n",
              "    </tr>\n",
              "    <tr>\n",
              "      <th>top</th>\n",
              "      <td>410 West 118th Street</td>\n",
              "      <td>Not found</td>\n",
              "      <td>Manhattan</td>\n",
              "      <td>Not found</td>\n",
              "      <td>Multifamily Housing</td>\n",
              "      <td>Multifamily Housing</td>\n",
              "      <td>Multifamily Housing</td>\n",
              "      <td>Whole Building</td>\n",
              "      <td>Not found</td>\n",
              "    </tr>\n",
              "    <tr>\n",
              "      <th>freq</th>\n",
              "      <td>70</td>\n",
              "      <td>25454</td>\n",
              "      <td>9223</td>\n",
              "      <td>25454</td>\n",
              "      <td>18973</td>\n",
              "      <td>16311</td>\n",
              "      <td>18986</td>\n",
              "      <td>23909</td>\n",
              "      <td>25454</td>\n",
              "    </tr>\n",
              "  </tbody>\n",
              "</table>\n",
              "</div>"
            ],
            "text/plain": [
              "       Address 1 (self-reported)  ... Water Required?\n",
              "count                      25454  ...           25454\n",
              "unique                     17489  ...               1\n",
              "top        410 West 118th Street  ...       Not found\n",
              "freq                          70  ...           25454\n",
              "\n",
              "[4 rows x 9 columns]"
            ]
          },
          "metadata": {
            "tags": []
          },
          "execution_count": 28
        }
      ]
    },
    {
      "cell_type": "code",
      "metadata": {
        "colab": {
          "base_uri": "https://localhost:8080/"
        },
        "id": "4U3OyVjqSy5U",
        "outputId": "f7d8a39a-d8d1-4cac-ece2-af5e3a205117"
      },
      "source": [
        "col_list3 = []\n",
        "for column in df.columns:\n",
        "  if df[column].nunique() < 2:\n",
        "    col_list3.append(column)\n",
        "\n",
        "col_list3"
      ],
      "execution_count": 29,
      "outputs": [
        {
          "output_type": "execute_result",
          "data": {
            "text/plain": [
              "['Street Name',\n",
              " 'DOF Gross Floor Area (ft²)',\n",
              " 'Metered Areas (Energy)',\n",
              " 'Water Required?']"
            ]
          },
          "metadata": {
            "tags": []
          },
          "execution_count": 29
        }
      ]
    },
    {
      "cell_type": "code",
      "metadata": {
        "id": "VmGdRiUoUQPX"
      },
      "source": [
        "df = df.drop(columns = col_list3, axis = 1)"
      ],
      "execution_count": 30,
      "outputs": []
    },
    {
      "cell_type": "code",
      "metadata": {
        "colab": {
          "base_uri": "https://localhost:8080/"
        },
        "id": "Xn86VhUSUYXy",
        "outputId": "12451d6e-0d42-4839-e2e1-a9597d02a9bc"
      },
      "source": [
        "df.shape"
      ],
      "execution_count": 31,
      "outputs": [
        {
          "output_type": "execute_result",
          "data": {
            "text/plain": [
              "(25454, 27)"
            ]
          },
          "metadata": {
            "tags": []
          },
          "execution_count": 31
        }
      ]
    },
    {
      "cell_type": "code",
      "metadata": {
        "colab": {
          "base_uri": "https://localhost:8080/",
          "height": 172
        },
        "id": "wJmudYeXUi6p",
        "outputId": "e8df7036-cfbc-44af-f2ea-fa7b9c898243"
      },
      "source": [
        "df.describe(include = 'object')"
      ],
      "execution_count": 32,
      "outputs": [
        {
          "output_type": "execute_result",
          "data": {
            "text/html": [
              "<div>\n",
              "<style scoped>\n",
              "    .dataframe tbody tr th:only-of-type {\n",
              "        vertical-align: middle;\n",
              "    }\n",
              "\n",
              "    .dataframe tbody tr th {\n",
              "        vertical-align: top;\n",
              "    }\n",
              "\n",
              "    .dataframe thead th {\n",
              "        text-align: right;\n",
              "    }\n",
              "</style>\n",
              "<table border=\"1\" class=\"dataframe\">\n",
              "  <thead>\n",
              "    <tr style=\"text-align: right;\">\n",
              "      <th></th>\n",
              "      <th>Address 1 (self-reported)</th>\n",
              "      <th>Borough</th>\n",
              "      <th>Primary Property Type - Self Selected</th>\n",
              "      <th>List of All Property Use Types at Property</th>\n",
              "      <th>Largest Property Use Type</th>\n",
              "    </tr>\n",
              "  </thead>\n",
              "  <tbody>\n",
              "    <tr>\n",
              "      <th>count</th>\n",
              "      <td>25454</td>\n",
              "      <td>25454</td>\n",
              "      <td>25454</td>\n",
              "      <td>25454</td>\n",
              "      <td>25454</td>\n",
              "    </tr>\n",
              "    <tr>\n",
              "      <th>unique</th>\n",
              "      <td>17489</td>\n",
              "      <td>12</td>\n",
              "      <td>33</td>\n",
              "      <td>580</td>\n",
              "      <td>20</td>\n",
              "    </tr>\n",
              "    <tr>\n",
              "      <th>top</th>\n",
              "      <td>410 West 118th Street</td>\n",
              "      <td>Manhattan</td>\n",
              "      <td>Multifamily Housing</td>\n",
              "      <td>Multifamily Housing</td>\n",
              "      <td>Multifamily Housing</td>\n",
              "    </tr>\n",
              "    <tr>\n",
              "      <th>freq</th>\n",
              "      <td>70</td>\n",
              "      <td>9223</td>\n",
              "      <td>18973</td>\n",
              "      <td>16311</td>\n",
              "      <td>18986</td>\n",
              "    </tr>\n",
              "  </tbody>\n",
              "</table>\n",
              "</div>"
            ],
            "text/plain": [
              "       Address 1 (self-reported)  ... Largest Property Use Type\n",
              "count                      25454  ...                     25454\n",
              "unique                     17489  ...                        20\n",
              "top        410 West 118th Street  ...       Multifamily Housing\n",
              "freq                          70  ...                     18986\n",
              "\n",
              "[4 rows x 5 columns]"
            ]
          },
          "metadata": {
            "tags": []
          },
          "execution_count": 32
        }
      ]
    },
    {
      "cell_type": "code",
      "metadata": {
        "colab": {
          "base_uri": "https://localhost:8080/"
        },
        "id": "EYxSIE6WVBuQ",
        "outputId": "cff7264d-285c-49f2-d0a3-ae2f2c9e27b9"
      },
      "source": [
        "df['Address 1 (self-reported)'].value_counts().sample(10)"
      ],
      "execution_count": 33,
      "outputs": [
        {
          "output_type": "execute_result",
          "data": {
            "text/plain": [
              "820 West End Avenue     1\n",
              "144-70 41st Avenue      1\n",
              "1901 Emmons Avenue      1\n",
              "34-15 Parsons Blvd.     1\n",
              "55 Overlook Terrace     1\n",
              "667 Ocean Ave           2\n",
              "2250 East 4th Street    2\n",
              "333 Hudson Street       2\n",
              "92-07 175th Street      1\n",
              "240 Madison Avenue      1\n",
              "Name: Address 1 (self-reported), dtype: int64"
            ]
          },
          "metadata": {
            "tags": []
          },
          "execution_count": 33
        }
      ]
    },
    {
      "cell_type": "code",
      "metadata": {
        "colab": {
          "base_uri": "https://localhost:8080/"
        },
        "id": "KxeCjLNCYkGm",
        "outputId": "a53643b3-14bf-47f9-d27d-2ad986f9cac8"
      },
      "source": [
        "df['Borough'].value_counts()"
      ],
      "execution_count": 34,
      "outputs": [
        {
          "output_type": "execute_result",
          "data": {
            "text/plain": [
              "Manhattan        9223\n",
              "Brooklyn         6419\n",
              "Bronx            5350\n",
              "Queens           3992\n",
              "Staten Island     427\n",
              "brooklyn           24\n",
              "BROOKLYN            9\n",
              "bronx               4\n",
              "QUEENS              2\n",
              "BRONX               2\n",
              "Patchogue           1\n",
              "STATEN ISLAND       1\n",
              "Name: Borough, dtype: int64"
            ]
          },
          "metadata": {
            "tags": []
          },
          "execution_count": 34
        }
      ]
    },
    {
      "cell_type": "code",
      "metadata": {
        "colab": {
          "base_uri": "https://localhost:8080/"
        },
        "id": "cK2E7L0TVdEt",
        "outputId": "5704e2f2-cb78-4372-f0c8-0e56d5248e53"
      },
      "source": [
        "df['Borough'].str.lower().value_counts()"
      ],
      "execution_count": 35,
      "outputs": [
        {
          "output_type": "execute_result",
          "data": {
            "text/plain": [
              "manhattan        9223\n",
              "brooklyn         6452\n",
              "bronx            5356\n",
              "queens           3994\n",
              "staten island     428\n",
              "patchogue           1\n",
              "Name: Borough, dtype: int64"
            ]
          },
          "metadata": {
            "tags": []
          },
          "execution_count": 35
        }
      ]
    },
    {
      "cell_type": "code",
      "metadata": {
        "id": "tPmu6N81V-ZJ"
      },
      "source": [
        "df['Borough'] = df['Borough'].str.lower()"
      ],
      "execution_count": 36,
      "outputs": []
    },
    {
      "cell_type": "code",
      "metadata": {
        "colab": {
          "base_uri": "https://localhost:8080/"
        },
        "id": "suvy89EqWJwY",
        "outputId": "66220b8e-116f-46fc-eba5-de46adb59189"
      },
      "source": [
        "df['Primary Property Type - Self Selected'].value_counts().sample(10)"
      ],
      "execution_count": 37,
      "outputs": [
        {
          "output_type": "execute_result",
          "data": {
            "text/plain": [
              "Other                                          36\n",
              "Other - Specialty Hospital                      1\n",
              "Courthouse                                     25\n",
              "Convention Center                               4\n",
              "Retail Store                                  160\n",
              "Hospital (General Medical & Surgical)          85\n",
              "Senior Care Community                         177\n",
              "Refrigerated Warehouse                         40\n",
              "Medical Office                                 79\n",
              "Outpatient Rehabilitation/Physical Therapy      3\n",
              "Name: Primary Property Type - Self Selected, dtype: int64"
            ]
          },
          "metadata": {
            "tags": []
          },
          "execution_count": 37
        }
      ]
    },
    {
      "cell_type": "code",
      "metadata": {
        "colab": {
          "base_uri": "https://localhost:8080/"
        },
        "id": "GX5EYTEzXZAr",
        "outputId": "86063204-64bc-439d-f8bf-db72e79017db"
      },
      "source": [
        "df['List of All Property Use Types at Property'].value_counts().sample(10)"
      ],
      "execution_count": 38,
      "outputs": [
        {
          "output_type": "execute_result",
          "data": {
            "text/plain": [
              "Financial Office, Medical Office, Office, Personal Services (Health/Beauty, Dry Cleaning, etc.), Restaurant     1\n",
              "Manufacturing/Industrial Plant, Multifamily Housing, Other - Restaurant/Bar                                     1\n",
              "Office, Other - Restaurant/Bar                                                                                 12\n",
              "Office, Other, Parking, Restaurant, Self-Storage Facility                                                       1\n",
              "Fitness Center/Health Club/Gym, Food Service, Office, Retail Store                                              1\n",
              "Medical Office, Office, Parking, Supermarket/Grocery Store                                                      1\n",
              "Multifamily Housing, Parking, Pre-school/Daycare                                                                5\n",
              "Office, Retail Store, Parking, Bank Branch                                                                      1\n",
              "Medical Office, Office, Retail Store                                                                           18\n",
              "Multifamily Housing, Office, Retail Store                                                                      29\n",
              "Name: List of All Property Use Types at Property, dtype: int64"
            ]
          },
          "metadata": {
            "tags": []
          },
          "execution_count": 38
        }
      ]
    },
    {
      "cell_type": "code",
      "metadata": {
        "colab": {
          "base_uri": "https://localhost:8080/"
        },
        "id": "aluCQfO2YEp7",
        "outputId": "7c731764-c319-4099-ff6e-15f677bbc369"
      },
      "source": [
        "df['Largest Property Use Type'].value_counts().sample(10)"
      ],
      "execution_count": 39,
      "outputs": [
        {
          "output_type": "execute_result",
          "data": {
            "text/plain": [
              "Residence Hall/Dormitory       459\n",
              "Retail Store                   187\n",
              "Office                        2448\n",
              "Non-Refrigerated Warehouse     379\n",
              "Refrigerated Warehouse          37\n",
              "Senior Care Community          183\n",
              "Bank Branch                     11\n",
              "Medical Office                  76\n",
              "Supermarket/Grocery Store      103\n",
              "Hotel                          471\n",
              "Name: Largest Property Use Type, dtype: int64"
            ]
          },
          "metadata": {
            "tags": []
          },
          "execution_count": 39
        }
      ]
    },
    {
      "cell_type": "code",
      "metadata": {
        "colab": {
          "base_uri": "https://localhost:8080/"
        },
        "id": "yjXIdq1KZc_Y",
        "outputId": "8e98369c-c8df-4fec-db9a-1fde0e800389"
      },
      "source": [
        "df.select_dtypes(include = 'object').info()"
      ],
      "execution_count": 40,
      "outputs": [
        {
          "output_type": "stream",
          "text": [
            "<class 'pandas.core.frame.DataFrame'>\n",
            "Int64Index: 25454 entries, 0 to 34353\n",
            "Data columns (total 5 columns):\n",
            " #   Column                                      Non-Null Count  Dtype \n",
            "---  ------                                      --------------  ----- \n",
            " 0   Address 1 (self-reported)                   25454 non-null  object\n",
            " 1   Borough                                     25454 non-null  object\n",
            " 2   Primary Property Type - Self Selected       25454 non-null  object\n",
            " 3   List of All Property Use Types at Property  25454 non-null  object\n",
            " 4   Largest Property Use Type                   25454 non-null  object\n",
            "dtypes: object(5)\n",
            "memory usage: 1.2+ MB\n"
          ],
          "name": "stdout"
        }
      ]
    },
    {
      "cell_type": "code",
      "metadata": {
        "colab": {
          "base_uri": "https://localhost:8080/"
        },
        "id": "0FUUiC9ZZ1cN",
        "outputId": "2967da30-ca13-495a-8a8b-23e8d9375b33"
      },
      "source": [
        "df.select_dtypes(include = ['int', 'float']).info()"
      ],
      "execution_count": 41,
      "outputs": [
        {
          "output_type": "stream",
          "text": [
            "<class 'pandas.core.frame.DataFrame'>\n",
            "Int64Index: 25454 entries, 0 to 34353\n",
            "Data columns (total 22 columns):\n",
            " #   Column                                                      Non-Null Count  Dtype  \n",
            "---  ------                                                      --------------  -----  \n",
            " 0   Self-Reported Gross Floor Area (ft²)                        25454 non-null  int64  \n",
            " 1   Largest Property Use Type - Gross Floor Area (ft²)          25454 non-null  float64\n",
            " 2   Year Built                                                  25454 non-null  int64  \n",
            " 3   Number of Buildings                                         25454 non-null  int64  \n",
            " 4   Occupancy                                                   25454 non-null  int64  \n",
            " 5   ENERGY STAR Score                                           25454 non-null  float64\n",
            " 6   Source EUI (kBtu/ft²)                                       25454 non-null  float64\n",
            " 7   Weather Normalized Source EUI (kBtu/ft²)                    22755 non-null  float64\n",
            " 8   Site EUI (kBtu/ft²)                                         25454 non-null  float64\n",
            " 9   Weather Normalized Site EUI (kBtu/ft²)                      22755 non-null  float64\n",
            " 10  Weather Normalized Site Electricity Intensity (kWh/ft²)     24631 non-null  float64\n",
            " 11  Weather Normalized Site Natural Gas Intensity (therms/ft²)  22531 non-null  float64\n",
            " 12  Natural Gas Use (kBtu)                                      23108 non-null  float64\n",
            " 13  Weather Normalized Site Natural Gas Use (therms)            22531 non-null  float64\n",
            " 14  Electricity Use - Grid Purchase (kBtu)                      25043 non-null  float64\n",
            " 15  Electricity Use - Grid Purchase (kWh)                       25043 non-null  float64\n",
            " 16  Weather Normalized Site Electricity (kWh)                   24631 non-null  float64\n",
            " 17  Total GHG Emissions (Metric Tons CO2e)                      25450 non-null  float64\n",
            " 18  Direct GHG Emissions (Metric Tons CO2e)                     25349 non-null  float64\n",
            " 19  Indirect GHG Emissions (Metric Tons CO2e)                   25403 non-null  float64\n",
            " 20  Water Use (All Water Sources) (kgal)                        14362 non-null  float64\n",
            " 21  Water Use Intensity (All Water Sources) (gal/ft²)           14362 non-null  float64\n",
            "dtypes: float64(18), int64(4)\n",
            "memory usage: 4.5 MB\n"
          ],
          "name": "stdout"
        }
      ]
    },
    {
      "cell_type": "code",
      "metadata": {
        "id": "38iLgfp-aNeh"
      },
      "source": [
        "X = df.copy()\n",
        "y = X.pop('ENERGY STAR Score')"
      ],
      "execution_count": 42,
      "outputs": []
    },
    {
      "cell_type": "code",
      "metadata": {
        "id": "zDnZ9Z52bHTD"
      },
      "source": [
        "from sklearn.model_selection import train_test_split\n",
        "X_train, X_test, y_train, y_test = train_test_split(X, y, test_size = 0.2, shuffle = True, random_state = 5)"
      ],
      "execution_count": 43,
      "outputs": []
    },
    {
      "cell_type": "code",
      "metadata": {
        "id": "EZCEMRhcbsVW"
      },
      "source": [
        "X_train, X_ohe_train = X_train.drop(['Borough'], axis =1), X_train['Borough'].copy()\n",
        "X_test, X_ohe_test = X_test.drop(['Borough'], axis =1),  X_test['Borough'].copy()"
      ],
      "execution_count": 44,
      "outputs": []
    },
    {
      "cell_type": "code",
      "metadata": {
        "colab": {
          "base_uri": "https://localhost:8080/"
        },
        "id": "ZjeGun9rcq0e",
        "outputId": "a5abd00d-858c-4d44-f8ad-a556aab63785"
      },
      "source": [
        "X_ohe_train.head()"
      ],
      "execution_count": 45,
      "outputs": [
        {
          "output_type": "execute_result",
          "data": {
            "text/plain": [
              "15743     brooklyn\n",
              "4069     manhattan\n",
              "23948     brooklyn\n",
              "8975     manhattan\n",
              "15436     brooklyn\n",
              "Name: Borough, dtype: object"
            ]
          },
          "metadata": {
            "tags": []
          },
          "execution_count": 45
        }
      ]
    },
    {
      "cell_type": "code",
      "metadata": {
        "id": "iYGRtYV1czeH"
      },
      "source": [
        "from sklearn.preprocessing import OneHotEncoder\n",
        "ohe = OneHotEncoder(handle_unknown = 'ignore', sparse = False)\n",
        "X_ohe_train = ohe.fit_transform(X_ohe_train.values.reshape(-1, 1))\n",
        "X_ohe_train = pd.DataFrame(X_ohe_train, columns = ohe.get_feature_names())\n",
        "X_ohe_test = ohe.transform(X_ohe_test.values.reshape(-1, 1))\n",
        "X_ohe_test = pd.DataFrame(X_ohe_test, columns = ohe.get_feature_names())\n"
      ],
      "execution_count": 46,
      "outputs": []
    },
    {
      "cell_type": "code",
      "metadata": {
        "colab": {
          "base_uri": "https://localhost:8080/",
          "height": 203
        },
        "id": "3unjWw6NfS8l",
        "outputId": "246427a1-575d-452c-ecb0-14a175a17a98"
      },
      "source": [
        "X_ohe_train.head()"
      ],
      "execution_count": 47,
      "outputs": [
        {
          "output_type": "execute_result",
          "data": {
            "text/html": [
              "<div>\n",
              "<style scoped>\n",
              "    .dataframe tbody tr th:only-of-type {\n",
              "        vertical-align: middle;\n",
              "    }\n",
              "\n",
              "    .dataframe tbody tr th {\n",
              "        vertical-align: top;\n",
              "    }\n",
              "\n",
              "    .dataframe thead th {\n",
              "        text-align: right;\n",
              "    }\n",
              "</style>\n",
              "<table border=\"1\" class=\"dataframe\">\n",
              "  <thead>\n",
              "    <tr style=\"text-align: right;\">\n",
              "      <th></th>\n",
              "      <th>x0_bronx</th>\n",
              "      <th>x0_brooklyn</th>\n",
              "      <th>x0_manhattan</th>\n",
              "      <th>x0_patchogue</th>\n",
              "      <th>x0_queens</th>\n",
              "      <th>x0_staten island</th>\n",
              "    </tr>\n",
              "  </thead>\n",
              "  <tbody>\n",
              "    <tr>\n",
              "      <th>0</th>\n",
              "      <td>0.0</td>\n",
              "      <td>1.0</td>\n",
              "      <td>0.0</td>\n",
              "      <td>0.0</td>\n",
              "      <td>0.0</td>\n",
              "      <td>0.0</td>\n",
              "    </tr>\n",
              "    <tr>\n",
              "      <th>1</th>\n",
              "      <td>0.0</td>\n",
              "      <td>0.0</td>\n",
              "      <td>1.0</td>\n",
              "      <td>0.0</td>\n",
              "      <td>0.0</td>\n",
              "      <td>0.0</td>\n",
              "    </tr>\n",
              "    <tr>\n",
              "      <th>2</th>\n",
              "      <td>0.0</td>\n",
              "      <td>1.0</td>\n",
              "      <td>0.0</td>\n",
              "      <td>0.0</td>\n",
              "      <td>0.0</td>\n",
              "      <td>0.0</td>\n",
              "    </tr>\n",
              "    <tr>\n",
              "      <th>3</th>\n",
              "      <td>0.0</td>\n",
              "      <td>0.0</td>\n",
              "      <td>1.0</td>\n",
              "      <td>0.0</td>\n",
              "      <td>0.0</td>\n",
              "      <td>0.0</td>\n",
              "    </tr>\n",
              "    <tr>\n",
              "      <th>4</th>\n",
              "      <td>0.0</td>\n",
              "      <td>1.0</td>\n",
              "      <td>0.0</td>\n",
              "      <td>0.0</td>\n",
              "      <td>0.0</td>\n",
              "      <td>0.0</td>\n",
              "    </tr>\n",
              "  </tbody>\n",
              "</table>\n",
              "</div>"
            ],
            "text/plain": [
              "   x0_bronx  x0_brooklyn  ...  x0_queens  x0_staten island\n",
              "0       0.0          1.0  ...        0.0               0.0\n",
              "1       0.0          0.0  ...        0.0               0.0\n",
              "2       0.0          1.0  ...        0.0               0.0\n",
              "3       0.0          0.0  ...        0.0               0.0\n",
              "4       0.0          1.0  ...        0.0               0.0\n",
              "\n",
              "[5 rows x 6 columns]"
            ]
          },
          "metadata": {
            "tags": []
          },
          "execution_count": 47
        }
      ]
    },
    {
      "cell_type": "code",
      "metadata": {
        "id": "TmRwz5kKgHOR"
      },
      "source": [
        "X_train, X_fr_train = X_train.drop(['Primary Property Type - Self Selected','Largest Property Use Type'], axis =1), X_train[['Primary Property Type - Self Selected','Largest Property Use Type']].copy()\n",
        "X_test, X_fr_test = X_test.drop(['Primary Property Type - Self Selected','Largest Property Use Type'], axis =1),  X_test[['Primary Property Type - Self Selected','Largest Property Use Type']].copy()"
      ],
      "execution_count": 48,
      "outputs": []
    },
    {
      "cell_type": "code",
      "metadata": {
        "colab": {
          "base_uri": "https://localhost:8080/",
          "height": 203
        },
        "id": "HyuOfgWWkcMi",
        "outputId": "1d6efa8c-8890-4cd8-dd07-75be2e8ab136"
      },
      "source": [
        "X_fr_train.head()"
      ],
      "execution_count": 51,
      "outputs": [
        {
          "output_type": "execute_result",
          "data": {
            "text/html": [
              "<div>\n",
              "<style scoped>\n",
              "    .dataframe tbody tr th:only-of-type {\n",
              "        vertical-align: middle;\n",
              "    }\n",
              "\n",
              "    .dataframe tbody tr th {\n",
              "        vertical-align: top;\n",
              "    }\n",
              "\n",
              "    .dataframe thead th {\n",
              "        text-align: right;\n",
              "    }\n",
              "</style>\n",
              "<table border=\"1\" class=\"dataframe\">\n",
              "  <thead>\n",
              "    <tr style=\"text-align: right;\">\n",
              "      <th></th>\n",
              "      <th>Primary Property Type - Self Selected</th>\n",
              "      <th>Largest Property Use Type</th>\n",
              "    </tr>\n",
              "  </thead>\n",
              "  <tbody>\n",
              "    <tr>\n",
              "      <th>15743</th>\n",
              "      <td>Multifamily Housing</td>\n",
              "      <td>Multifamily Housing</td>\n",
              "    </tr>\n",
              "    <tr>\n",
              "      <th>4069</th>\n",
              "      <td>Office</td>\n",
              "      <td>Office</td>\n",
              "    </tr>\n",
              "    <tr>\n",
              "      <th>23948</th>\n",
              "      <td>Multifamily Housing</td>\n",
              "      <td>Multifamily Housing</td>\n",
              "    </tr>\n",
              "    <tr>\n",
              "      <th>8975</th>\n",
              "      <td>Multifamily Housing</td>\n",
              "      <td>Multifamily Housing</td>\n",
              "    </tr>\n",
              "    <tr>\n",
              "      <th>15436</th>\n",
              "      <td>Multifamily Housing</td>\n",
              "      <td>Multifamily Housing</td>\n",
              "    </tr>\n",
              "  </tbody>\n",
              "</table>\n",
              "</div>"
            ],
            "text/plain": [
              "      Primary Property Type - Self Selected Largest Property Use Type\n",
              "15743                   Multifamily Housing       Multifamily Housing\n",
              "4069                                 Office                    Office\n",
              "23948                   Multifamily Housing       Multifamily Housing\n",
              "8975                    Multifamily Housing       Multifamily Housing\n",
              "15436                   Multifamily Housing       Multifamily Housing"
            ]
          },
          "metadata": {
            "tags": []
          },
          "execution_count": 51
        }
      ]
    },
    {
      "cell_type": "code",
      "metadata": {
        "colab": {
          "base_uri": "https://localhost:8080/"
        },
        "id": "YFHjDbz0ktNg",
        "outputId": "a4acb438-ca22-463a-a409-fd66d82c3b33"
      },
      "source": [
        "!pip install category_encoders"
      ],
      "execution_count": 53,
      "outputs": [
        {
          "output_type": "stream",
          "text": [
            "Requirement already satisfied: category_encoders in /usr/local/lib/python3.7/dist-packages (2.2.2)\n",
            "Requirement already satisfied: numpy>=1.14.0 in /usr/local/lib/python3.7/dist-packages (from category_encoders) (1.19.5)\n",
            "Requirement already satisfied: patsy>=0.5.1 in /usr/local/lib/python3.7/dist-packages (from category_encoders) (0.5.1)\n",
            "Requirement already satisfied: scikit-learn>=0.20.0 in /usr/local/lib/python3.7/dist-packages (from category_encoders) (0.22.2.post1)\n",
            "Requirement already satisfied: pandas>=0.21.1 in /usr/local/lib/python3.7/dist-packages (from category_encoders) (1.1.5)\n",
            "Requirement already satisfied: scipy>=1.0.0 in /usr/local/lib/python3.7/dist-packages (from category_encoders) (1.4.1)\n",
            "Requirement already satisfied: statsmodels>=0.9.0 in /usr/local/lib/python3.7/dist-packages (from category_encoders) (0.10.2)\n",
            "Requirement already satisfied: six in /usr/local/lib/python3.7/dist-packages (from patsy>=0.5.1->category_encoders) (1.15.0)\n",
            "Requirement already satisfied: joblib>=0.11 in /usr/local/lib/python3.7/dist-packages (from scikit-learn>=0.20.0->category_encoders) (1.0.1)\n",
            "Requirement already satisfied: pytz>=2017.2 in /usr/local/lib/python3.7/dist-packages (from pandas>=0.21.1->category_encoders) (2018.9)\n",
            "Requirement already satisfied: python-dateutil>=2.7.3 in /usr/local/lib/python3.7/dist-packages (from pandas>=0.21.1->category_encoders) (2.8.1)\n"
          ],
          "name": "stdout"
        }
      ]
    },
    {
      "cell_type": "code",
      "metadata": {
        "colab": {
          "base_uri": "https://localhost:8080/"
        },
        "id": "fpvXnW7HalY4",
        "outputId": "ad18cf2d-af52-4582-a799-7cea49e25c7d"
      },
      "source": [
        "from category_encoders.count import CountEncoder\n",
        "\n",
        "ce = CountEncoder(handle_unknown = 1)\n",
        "X_fr_train = ce.fit_transform(X_fr_train)\n",
        "X_fr_test = ce.transform(X_fr_test)"
      ],
      "execution_count": 54,
      "outputs": [
        {
          "output_type": "stream",
          "text": [
            "/usr/local/lib/python3.7/dist-packages/statsmodels/tools/_testing.py:19: FutureWarning: pandas.util.testing is deprecated. Use the functions in the public API at pandas.testing instead.\n",
            "  import pandas.util.testing as tm\n"
          ],
          "name": "stderr"
        }
      ]
    },
    {
      "cell_type": "code",
      "metadata": {
        "id": "cbVZ6Z3zcmI9"
      },
      "source": [
        "X_train, X_tf_train = X_train.drop(['List of All Property Use Types at Property'], axis =1), X_train['List of All Property Use Types at Property'].copy()\n",
        "X_test, X_tf_test = X_test.drop(['List of All Property Use Types at Property'], axis =1),  X_test['List of All Property Use Types at Property'].copy()"
      ],
      "execution_count": 55,
      "outputs": []
    },
    {
      "cell_type": "code",
      "metadata": {
        "colab": {
          "base_uri": "https://localhost:8080/"
        },
        "id": "FnVU4BfsACJ5",
        "outputId": "e0af2ed7-3f33-421c-f71c-c3a4a6829dc2"
      },
      "source": [
        "X_tf_train.head()"
      ],
      "execution_count": 56,
      "outputs": [
        {
          "output_type": "execute_result",
          "data": {
            "text/plain": [
              "15743                                  Multifamily Housing\n",
              "4069     Office, Parking, Performing Arts, Residence Ha...\n",
              "23948                                  Multifamily Housing\n",
              "8975       Mailing Center/Post Office, Multifamily Housing\n",
              "15436                                  Multifamily Housing\n",
              "Name: List of All Property Use Types at Property, dtype: object"
            ]
          },
          "metadata": {
            "tags": []
          },
          "execution_count": 56
        }
      ]
    },
    {
      "cell_type": "code",
      "metadata": {
        "id": "C5IiJy_tdMpe"
      },
      "source": [
        "from sklearn.feature_extraction.text import TfidfVectorizer\n",
        "\n",
        "vec = TfidfVectorizer(max_features = 50, stop_words = 'english', token_pattern=r'(?u)\\b[A-Za-z]+\\b')\n",
        "X_tf_train = vec.fit_transform(X_tf_train)\n",
        "X_tf_test = vec.transform(X_tf_test)\n",
        "\n",
        "X_tf_train = pd.DataFrame(X_tf_train.toarray(), columns=vec.get_feature_names())\n",
        "X_tf_test = pd.DataFrame(X_tf_test.toarray(), columns=vec.get_feature_names())"
      ],
      "execution_count": 57,
      "outputs": []
    },
    {
      "cell_type": "code",
      "metadata": {
        "colab": {
          "base_uri": "https://localhost:8080/",
          "height": 223
        },
        "id": "PoQhVZx7hRsE",
        "outputId": "0c7de326-072b-4a0e-a49b-f00930c80d0f"
      },
      "source": [
        "X_tf_train.head()"
      ],
      "execution_count": 60,
      "outputs": [
        {
          "output_type": "execute_result",
          "data": {
            "text/html": [
              "<div>\n",
              "<style scoped>\n",
              "    .dataframe tbody tr th:only-of-type {\n",
              "        vertical-align: middle;\n",
              "    }\n",
              "\n",
              "    .dataframe tbody tr th {\n",
              "        vertical-align: top;\n",
              "    }\n",
              "\n",
              "    .dataframe thead th {\n",
              "        text-align: right;\n",
              "    }\n",
              "</style>\n",
              "<table border=\"1\" class=\"dataframe\">\n",
              "  <thead>\n",
              "    <tr style=\"text-align: right;\">\n",
              "      <th></th>\n",
              "      <th>assembly</th>\n",
              "      <th>bank</th>\n",
              "      <th>bar</th>\n",
              "      <th>branch</th>\n",
              "      <th>care</th>\n",
              "      <th>center</th>\n",
              "      <th>clinic</th>\n",
              "      <th>community</th>\n",
              "      <th>convenience</th>\n",
              "      <th>data</th>\n",
              "      <th>distribution</th>\n",
              "      <th>dormitory</th>\n",
              "      <th>entertainment</th>\n",
              "      <th>facility</th>\n",
              "      <th>fast</th>\n",
              "      <th>financial</th>\n",
              "      <th>food</th>\n",
              "      <th>gas</th>\n",
              "      <th>general</th>\n",
              "      <th>grocery</th>\n",
              "      <th>hall</th>\n",
              "      <th>health</th>\n",
              "      <th>hospital</th>\n",
              "      <th>hotel</th>\n",
              "      <th>housing</th>\n",
              "      <th>k</th>\n",
              "      <th>medical</th>\n",
              "      <th>multifamily</th>\n",
              "      <th>non</th>\n",
              "      <th>office</th>\n",
              "      <th>outpatient</th>\n",
              "      <th>parking</th>\n",
              "      <th>pool</th>\n",
              "      <th>public</th>\n",
              "      <th>recreation</th>\n",
              "      <th>refrigerated</th>\n",
              "      <th>residence</th>\n",
              "      <th>restaurant</th>\n",
              "      <th>retail</th>\n",
              "      <th>school</th>\n",
              "      <th>senior</th>\n",
              "      <th>services</th>\n",
              "      <th>station</th>\n",
              "      <th>store</th>\n",
              "      <th>supermarket</th>\n",
              "      <th>surgical</th>\n",
              "      <th>swimming</th>\n",
              "      <th>urgent</th>\n",
              "      <th>warehouse</th>\n",
              "      <th>worship</th>\n",
              "    </tr>\n",
              "  </thead>\n",
              "  <tbody>\n",
              "    <tr>\n",
              "      <th>0</th>\n",
              "      <td>0.0</td>\n",
              "      <td>0.0</td>\n",
              "      <td>0.0</td>\n",
              "      <td>0.0</td>\n",
              "      <td>0.0</td>\n",
              "      <td>0.000000</td>\n",
              "      <td>0.0</td>\n",
              "      <td>0.0</td>\n",
              "      <td>0.0</td>\n",
              "      <td>0.0</td>\n",
              "      <td>0.0</td>\n",
              "      <td>0.000000</td>\n",
              "      <td>0.0</td>\n",
              "      <td>0.0</td>\n",
              "      <td>0.0</td>\n",
              "      <td>0.0</td>\n",
              "      <td>0.0</td>\n",
              "      <td>0.0</td>\n",
              "      <td>0.0</td>\n",
              "      <td>0.0</td>\n",
              "      <td>0.000000</td>\n",
              "      <td>0.0</td>\n",
              "      <td>0.0</td>\n",
              "      <td>0.0</td>\n",
              "      <td>0.707107</td>\n",
              "      <td>0.0</td>\n",
              "      <td>0.0</td>\n",
              "      <td>0.707107</td>\n",
              "      <td>0.0</td>\n",
              "      <td>0.000000</td>\n",
              "      <td>0.0</td>\n",
              "      <td>0.000000</td>\n",
              "      <td>0.0</td>\n",
              "      <td>0.0</td>\n",
              "      <td>0.0</td>\n",
              "      <td>0.0</td>\n",
              "      <td>0.000000</td>\n",
              "      <td>0.0</td>\n",
              "      <td>0.0</td>\n",
              "      <td>0.0</td>\n",
              "      <td>0.0</td>\n",
              "      <td>0.0</td>\n",
              "      <td>0.0</td>\n",
              "      <td>0.0</td>\n",
              "      <td>0.0</td>\n",
              "      <td>0.0</td>\n",
              "      <td>0.0</td>\n",
              "      <td>0.0</td>\n",
              "      <td>0.0</td>\n",
              "      <td>0.0</td>\n",
              "    </tr>\n",
              "    <tr>\n",
              "      <th>1</th>\n",
              "      <td>0.0</td>\n",
              "      <td>0.0</td>\n",
              "      <td>0.0</td>\n",
              "      <td>0.0</td>\n",
              "      <td>0.0</td>\n",
              "      <td>0.000000</td>\n",
              "      <td>0.0</td>\n",
              "      <td>0.0</td>\n",
              "      <td>0.0</td>\n",
              "      <td>0.0</td>\n",
              "      <td>0.0</td>\n",
              "      <td>0.503731</td>\n",
              "      <td>0.0</td>\n",
              "      <td>0.0</td>\n",
              "      <td>0.0</td>\n",
              "      <td>0.0</td>\n",
              "      <td>0.0</td>\n",
              "      <td>0.0</td>\n",
              "      <td>0.0</td>\n",
              "      <td>0.0</td>\n",
              "      <td>0.500869</td>\n",
              "      <td>0.0</td>\n",
              "      <td>0.0</td>\n",
              "      <td>0.0</td>\n",
              "      <td>0.000000</td>\n",
              "      <td>0.0</td>\n",
              "      <td>0.0</td>\n",
              "      <td>0.000000</td>\n",
              "      <td>0.0</td>\n",
              "      <td>0.311168</td>\n",
              "      <td>0.0</td>\n",
              "      <td>0.380544</td>\n",
              "      <td>0.0</td>\n",
              "      <td>0.0</td>\n",
              "      <td>0.0</td>\n",
              "      <td>0.0</td>\n",
              "      <td>0.503731</td>\n",
              "      <td>0.0</td>\n",
              "      <td>0.0</td>\n",
              "      <td>0.0</td>\n",
              "      <td>0.0</td>\n",
              "      <td>0.0</td>\n",
              "      <td>0.0</td>\n",
              "      <td>0.0</td>\n",
              "      <td>0.0</td>\n",
              "      <td>0.0</td>\n",
              "      <td>0.0</td>\n",
              "      <td>0.0</td>\n",
              "      <td>0.0</td>\n",
              "      <td>0.0</td>\n",
              "    </tr>\n",
              "    <tr>\n",
              "      <th>2</th>\n",
              "      <td>0.0</td>\n",
              "      <td>0.0</td>\n",
              "      <td>0.0</td>\n",
              "      <td>0.0</td>\n",
              "      <td>0.0</td>\n",
              "      <td>0.000000</td>\n",
              "      <td>0.0</td>\n",
              "      <td>0.0</td>\n",
              "      <td>0.0</td>\n",
              "      <td>0.0</td>\n",
              "      <td>0.0</td>\n",
              "      <td>0.000000</td>\n",
              "      <td>0.0</td>\n",
              "      <td>0.0</td>\n",
              "      <td>0.0</td>\n",
              "      <td>0.0</td>\n",
              "      <td>0.0</td>\n",
              "      <td>0.0</td>\n",
              "      <td>0.0</td>\n",
              "      <td>0.0</td>\n",
              "      <td>0.000000</td>\n",
              "      <td>0.0</td>\n",
              "      <td>0.0</td>\n",
              "      <td>0.0</td>\n",
              "      <td>0.707107</td>\n",
              "      <td>0.0</td>\n",
              "      <td>0.0</td>\n",
              "      <td>0.707107</td>\n",
              "      <td>0.0</td>\n",
              "      <td>0.000000</td>\n",
              "      <td>0.0</td>\n",
              "      <td>0.000000</td>\n",
              "      <td>0.0</td>\n",
              "      <td>0.0</td>\n",
              "      <td>0.0</td>\n",
              "      <td>0.0</td>\n",
              "      <td>0.000000</td>\n",
              "      <td>0.0</td>\n",
              "      <td>0.0</td>\n",
              "      <td>0.0</td>\n",
              "      <td>0.0</td>\n",
              "      <td>0.0</td>\n",
              "      <td>0.0</td>\n",
              "      <td>0.0</td>\n",
              "      <td>0.0</td>\n",
              "      <td>0.0</td>\n",
              "      <td>0.0</td>\n",
              "      <td>0.0</td>\n",
              "      <td>0.0</td>\n",
              "      <td>0.0</td>\n",
              "    </tr>\n",
              "    <tr>\n",
              "      <th>3</th>\n",
              "      <td>0.0</td>\n",
              "      <td>0.0</td>\n",
              "      <td>0.0</td>\n",
              "      <td>0.0</td>\n",
              "      <td>0.0</td>\n",
              "      <td>0.848005</td>\n",
              "      <td>0.0</td>\n",
              "      <td>0.0</td>\n",
              "      <td>0.0</td>\n",
              "      <td>0.0</td>\n",
              "      <td>0.0</td>\n",
              "      <td>0.000000</td>\n",
              "      <td>0.0</td>\n",
              "      <td>0.0</td>\n",
              "      <td>0.0</td>\n",
              "      <td>0.0</td>\n",
              "      <td>0.0</td>\n",
              "      <td>0.0</td>\n",
              "      <td>0.0</td>\n",
              "      <td>0.0</td>\n",
              "      <td>0.000000</td>\n",
              "      <td>0.0</td>\n",
              "      <td>0.0</td>\n",
              "      <td>0.0</td>\n",
              "      <td>0.191667</td>\n",
              "      <td>0.0</td>\n",
              "      <td>0.0</td>\n",
              "      <td>0.191667</td>\n",
              "      <td>0.0</td>\n",
              "      <td>0.455428</td>\n",
              "      <td>0.0</td>\n",
              "      <td>0.000000</td>\n",
              "      <td>0.0</td>\n",
              "      <td>0.0</td>\n",
              "      <td>0.0</td>\n",
              "      <td>0.0</td>\n",
              "      <td>0.000000</td>\n",
              "      <td>0.0</td>\n",
              "      <td>0.0</td>\n",
              "      <td>0.0</td>\n",
              "      <td>0.0</td>\n",
              "      <td>0.0</td>\n",
              "      <td>0.0</td>\n",
              "      <td>0.0</td>\n",
              "      <td>0.0</td>\n",
              "      <td>0.0</td>\n",
              "      <td>0.0</td>\n",
              "      <td>0.0</td>\n",
              "      <td>0.0</td>\n",
              "      <td>0.0</td>\n",
              "    </tr>\n",
              "    <tr>\n",
              "      <th>4</th>\n",
              "      <td>0.0</td>\n",
              "      <td>0.0</td>\n",
              "      <td>0.0</td>\n",
              "      <td>0.0</td>\n",
              "      <td>0.0</td>\n",
              "      <td>0.000000</td>\n",
              "      <td>0.0</td>\n",
              "      <td>0.0</td>\n",
              "      <td>0.0</td>\n",
              "      <td>0.0</td>\n",
              "      <td>0.0</td>\n",
              "      <td>0.000000</td>\n",
              "      <td>0.0</td>\n",
              "      <td>0.0</td>\n",
              "      <td>0.0</td>\n",
              "      <td>0.0</td>\n",
              "      <td>0.0</td>\n",
              "      <td>0.0</td>\n",
              "      <td>0.0</td>\n",
              "      <td>0.0</td>\n",
              "      <td>0.000000</td>\n",
              "      <td>0.0</td>\n",
              "      <td>0.0</td>\n",
              "      <td>0.0</td>\n",
              "      <td>0.707107</td>\n",
              "      <td>0.0</td>\n",
              "      <td>0.0</td>\n",
              "      <td>0.707107</td>\n",
              "      <td>0.0</td>\n",
              "      <td>0.000000</td>\n",
              "      <td>0.0</td>\n",
              "      <td>0.000000</td>\n",
              "      <td>0.0</td>\n",
              "      <td>0.0</td>\n",
              "      <td>0.0</td>\n",
              "      <td>0.0</td>\n",
              "      <td>0.000000</td>\n",
              "      <td>0.0</td>\n",
              "      <td>0.0</td>\n",
              "      <td>0.0</td>\n",
              "      <td>0.0</td>\n",
              "      <td>0.0</td>\n",
              "      <td>0.0</td>\n",
              "      <td>0.0</td>\n",
              "      <td>0.0</td>\n",
              "      <td>0.0</td>\n",
              "      <td>0.0</td>\n",
              "      <td>0.0</td>\n",
              "      <td>0.0</td>\n",
              "      <td>0.0</td>\n",
              "    </tr>\n",
              "  </tbody>\n",
              "</table>\n",
              "</div>"
            ],
            "text/plain": [
              "   assembly  bank  bar  branch  ...  swimming  urgent  warehouse  worship\n",
              "0       0.0   0.0  0.0     0.0  ...       0.0     0.0        0.0      0.0\n",
              "1       0.0   0.0  0.0     0.0  ...       0.0     0.0        0.0      0.0\n",
              "2       0.0   0.0  0.0     0.0  ...       0.0     0.0        0.0      0.0\n",
              "3       0.0   0.0  0.0     0.0  ...       0.0     0.0        0.0      0.0\n",
              "4       0.0   0.0  0.0     0.0  ...       0.0     0.0        0.0      0.0\n",
              "\n",
              "[5 rows x 50 columns]"
            ]
          },
          "metadata": {
            "tags": []
          },
          "execution_count": 60
        }
      ]
    },
    {
      "cell_type": "code",
      "metadata": {
        "id": "E6iUq0h_hbDh"
      },
      "source": [
        "X_train = X_train.drop('Address 1 (self-reported)', axis = 1)\n",
        "X_test = X_test.drop('Address 1 (self-reported)', axis = 1)"
      ],
      "execution_count": 61,
      "outputs": []
    },
    {
      "cell_type": "code",
      "metadata": {
        "colab": {
          "base_uri": "https://localhost:8080/"
        },
        "id": "1vFf7W3kh6ak",
        "outputId": "1490ea6d-6fe0-495d-90be-34234d77609a"
      },
      "source": [
        "X_train.info()"
      ],
      "execution_count": 62,
      "outputs": [
        {
          "output_type": "stream",
          "text": [
            "<class 'pandas.core.frame.DataFrame'>\n",
            "Int64Index: 20363 entries, 15743 to 3816\n",
            "Data columns (total 21 columns):\n",
            " #   Column                                                      Non-Null Count  Dtype  \n",
            "---  ------                                                      --------------  -----  \n",
            " 0   Self-Reported Gross Floor Area (ft²)                        20363 non-null  int64  \n",
            " 1   Largest Property Use Type - Gross Floor Area (ft²)          20363 non-null  float64\n",
            " 2   Year Built                                                  20363 non-null  int64  \n",
            " 3   Number of Buildings                                         20363 non-null  int64  \n",
            " 4   Occupancy                                                   20363 non-null  int64  \n",
            " 5   Source EUI (kBtu/ft²)                                       20363 non-null  float64\n",
            " 6   Weather Normalized Source EUI (kBtu/ft²)                    18198 non-null  float64\n",
            " 7   Site EUI (kBtu/ft²)                                         20363 non-null  float64\n",
            " 8   Weather Normalized Site EUI (kBtu/ft²)                      18198 non-null  float64\n",
            " 9   Weather Normalized Site Electricity Intensity (kWh/ft²)     19700 non-null  float64\n",
            " 10  Weather Normalized Site Natural Gas Intensity (therms/ft²)  18016 non-null  float64\n",
            " 11  Natural Gas Use (kBtu)                                      18464 non-null  float64\n",
            " 12  Weather Normalized Site Natural Gas Use (therms)            18016 non-null  float64\n",
            " 13  Electricity Use - Grid Purchase (kBtu)                      20038 non-null  float64\n",
            " 14  Electricity Use - Grid Purchase (kWh)                       20038 non-null  float64\n",
            " 15  Weather Normalized Site Electricity (kWh)                   19700 non-null  float64\n",
            " 16  Total GHG Emissions (Metric Tons CO2e)                      20360 non-null  float64\n",
            " 17  Direct GHG Emissions (Metric Tons CO2e)                     20278 non-null  float64\n",
            " 18  Indirect GHG Emissions (Metric Tons CO2e)                   20324 non-null  float64\n",
            " 19  Water Use (All Water Sources) (kgal)                        11447 non-null  float64\n",
            " 20  Water Use Intensity (All Water Sources) (gal/ft²)           11447 non-null  float64\n",
            "dtypes: float64(17), int64(4)\n",
            "memory usage: 3.4 MB\n"
          ],
          "name": "stdout"
        }
      ]
    },
    {
      "cell_type": "code",
      "metadata": {
        "id": "VUhaOglBiV_w"
      },
      "source": [
        "from sklearn.preprocessing import MinMaxScaler\n",
        "\n",
        "mc = MinMaxScaler()\n",
        "cols = X_train.columns\n",
        "X_train = mc.fit_transform(X_train)\n",
        "X_train = pd.DataFrame(X_train, columns = cols)\n",
        "X_test= mc.transform(X_test)\n",
        "X_test = pd.DataFrame(X_test, columns = cols)"
      ],
      "execution_count": 63,
      "outputs": []
    },
    {
      "cell_type": "code",
      "metadata": {
        "id": "H3DBAK_Fi5td"
      },
      "source": [
        "X_train = pd.concat([X_train.reset_index(drop=True),\n",
        "                     X_fr_train.reset_index(drop=True),\n",
        "                     X_tf_train.reset_index(drop=True),\n",
        "                     X_ohe_train.reset_index(drop=True)], \n",
        "                    axis = 1, ignore_index=False)\n",
        "y_train = y_train.reset_index(drop=True)\n",
        "\n",
        "X_test = pd.concat([X_test.reset_index(drop=True),\n",
        "                     X_fr_test.reset_index(drop=True),\n",
        "                     X_tf_test.reset_index(drop=True),\n",
        "                     X_ohe_test.reset_index(drop=True)], \n",
        "                    axis = 1, ignore_index=False)\n",
        "y_test = y_test.reset_index(drop=True)"
      ],
      "execution_count": 64,
      "outputs": []
    },
    {
      "cell_type": "code",
      "metadata": {
        "colab": {
          "base_uri": "https://localhost:8080/"
        },
        "id": "5Nh9xynDki7a",
        "outputId": "aae3033e-19f9-4013-ecff-c03d93e6cc86"
      },
      "source": [
        "X_train.shape"
      ],
      "execution_count": 65,
      "outputs": [
        {
          "output_type": "execute_result",
          "data": {
            "text/plain": [
              "(20363, 79)"
            ]
          },
          "metadata": {
            "tags": []
          },
          "execution_count": 65
        }
      ]
    },
    {
      "cell_type": "code",
      "metadata": {
        "colab": {
          "base_uri": "https://localhost:8080/"
        },
        "id": "uVeyiUsfARDR",
        "outputId": "0c20cacd-73d7-4b7d-ba94-17013c9fb86e"
      },
      "source": [
        "y_train.shape"
      ],
      "execution_count": 66,
      "outputs": [
        {
          "output_type": "execute_result",
          "data": {
            "text/plain": [
              "(20363,)"
            ]
          },
          "metadata": {
            "tags": []
          },
          "execution_count": 66
        }
      ]
    },
    {
      "cell_type": "code",
      "metadata": {
        "colab": {
          "base_uri": "https://localhost:8080/"
        },
        "id": "5yqSWwNUATgx",
        "outputId": "f9736033-2e34-4afc-ed84-c94e68aefe14"
      },
      "source": [
        "X_test.shape"
      ],
      "execution_count": 67,
      "outputs": [
        {
          "output_type": "execute_result",
          "data": {
            "text/plain": [
              "(5091, 79)"
            ]
          },
          "metadata": {
            "tags": []
          },
          "execution_count": 67
        }
      ]
    },
    {
      "cell_type": "code",
      "metadata": {
        "colab": {
          "base_uri": "https://localhost:8080/"
        },
        "id": "XfaJjMK1AU8i",
        "outputId": "61b571d2-4f54-420d-af9a-b2d4e3344f0b"
      },
      "source": [
        "y_test.shape"
      ],
      "execution_count": 68,
      "outputs": [
        {
          "output_type": "execute_result",
          "data": {
            "text/plain": [
              "(5091,)"
            ]
          },
          "metadata": {
            "tags": []
          },
          "execution_count": 68
        }
      ]
    },
    {
      "cell_type": "code",
      "metadata": {
        "colab": {
          "base_uri": "https://localhost:8080/",
          "height": 324
        },
        "id": "Xh4DA1DOk2_M",
        "outputId": "8ae37046-2b08-4fe7-955f-297286e666e2"
      },
      "source": [
        "X_train.head()"
      ],
      "execution_count": 69,
      "outputs": [
        {
          "output_type": "execute_result",
          "data": {
            "text/html": [
              "<div>\n",
              "<style scoped>\n",
              "    .dataframe tbody tr th:only-of-type {\n",
              "        vertical-align: middle;\n",
              "    }\n",
              "\n",
              "    .dataframe tbody tr th {\n",
              "        vertical-align: top;\n",
              "    }\n",
              "\n",
              "    .dataframe thead th {\n",
              "        text-align: right;\n",
              "    }\n",
              "</style>\n",
              "<table border=\"1\" class=\"dataframe\">\n",
              "  <thead>\n",
              "    <tr style=\"text-align: right;\">\n",
              "      <th></th>\n",
              "      <th>Self-Reported Gross Floor Area (ft²)</th>\n",
              "      <th>Largest Property Use Type - Gross Floor Area (ft²)</th>\n",
              "      <th>Year Built</th>\n",
              "      <th>Number of Buildings</th>\n",
              "      <th>Occupancy</th>\n",
              "      <th>Source EUI (kBtu/ft²)</th>\n",
              "      <th>Weather Normalized Source EUI (kBtu/ft²)</th>\n",
              "      <th>Site EUI (kBtu/ft²)</th>\n",
              "      <th>Weather Normalized Site EUI (kBtu/ft²)</th>\n",
              "      <th>Weather Normalized Site Electricity Intensity (kWh/ft²)</th>\n",
              "      <th>Weather Normalized Site Natural Gas Intensity (therms/ft²)</th>\n",
              "      <th>Natural Gas Use (kBtu)</th>\n",
              "      <th>Weather Normalized Site Natural Gas Use (therms)</th>\n",
              "      <th>Electricity Use - Grid Purchase (kBtu)</th>\n",
              "      <th>Electricity Use - Grid Purchase (kWh)</th>\n",
              "      <th>Weather Normalized Site Electricity (kWh)</th>\n",
              "      <th>Total GHG Emissions (Metric Tons CO2e)</th>\n",
              "      <th>Direct GHG Emissions (Metric Tons CO2e)</th>\n",
              "      <th>Indirect GHG Emissions (Metric Tons CO2e)</th>\n",
              "      <th>Water Use (All Water Sources) (kgal)</th>\n",
              "      <th>Water Use Intensity (All Water Sources) (gal/ft²)</th>\n",
              "      <th>Primary Property Type - Self Selected</th>\n",
              "      <th>Largest Property Use Type</th>\n",
              "      <th>assembly</th>\n",
              "      <th>bank</th>\n",
              "      <th>bar</th>\n",
              "      <th>branch</th>\n",
              "      <th>care</th>\n",
              "      <th>center</th>\n",
              "      <th>clinic</th>\n",
              "      <th>community</th>\n",
              "      <th>convenience</th>\n",
              "      <th>data</th>\n",
              "      <th>distribution</th>\n",
              "      <th>dormitory</th>\n",
              "      <th>entertainment</th>\n",
              "      <th>facility</th>\n",
              "      <th>fast</th>\n",
              "      <th>financial</th>\n",
              "      <th>food</th>\n",
              "      <th>gas</th>\n",
              "      <th>general</th>\n",
              "      <th>grocery</th>\n",
              "      <th>hall</th>\n",
              "      <th>health</th>\n",
              "      <th>hospital</th>\n",
              "      <th>hotel</th>\n",
              "      <th>housing</th>\n",
              "      <th>k</th>\n",
              "      <th>medical</th>\n",
              "      <th>multifamily</th>\n",
              "      <th>non</th>\n",
              "      <th>office</th>\n",
              "      <th>outpatient</th>\n",
              "      <th>parking</th>\n",
              "      <th>pool</th>\n",
              "      <th>public</th>\n",
              "      <th>recreation</th>\n",
              "      <th>refrigerated</th>\n",
              "      <th>residence</th>\n",
              "      <th>restaurant</th>\n",
              "      <th>retail</th>\n",
              "      <th>school</th>\n",
              "      <th>senior</th>\n",
              "      <th>services</th>\n",
              "      <th>station</th>\n",
              "      <th>store</th>\n",
              "      <th>supermarket</th>\n",
              "      <th>surgical</th>\n",
              "      <th>swimming</th>\n",
              "      <th>urgent</th>\n",
              "      <th>warehouse</th>\n",
              "      <th>worship</th>\n",
              "      <th>x0_bronx</th>\n",
              "      <th>x0_brooklyn</th>\n",
              "      <th>x0_manhattan</th>\n",
              "      <th>x0_patchogue</th>\n",
              "      <th>x0_queens</th>\n",
              "      <th>x0_staten island</th>\n",
              "    </tr>\n",
              "  </thead>\n",
              "  <tbody>\n",
              "    <tr>\n",
              "      <th>0</th>\n",
              "      <td>0.010688</td>\n",
              "      <td>0.010688</td>\n",
              "      <td>0.775656</td>\n",
              "      <td>0.006211</td>\n",
              "      <td>0.95</td>\n",
              "      <td>0.000468</td>\n",
              "      <td>0.000503</td>\n",
              "      <td>0.000385</td>\n",
              "      <td>0.000416</td>\n",
              "      <td>0.010885</td>\n",
              "      <td>0.000388</td>\n",
              "      <td>0.000536</td>\n",
              "      <td>0.000584</td>\n",
              "      <td>0.003155</td>\n",
              "      <td>0.003155</td>\n",
              "      <td>0.003295</td>\n",
              "      <td>0.000475</td>\n",
              "      <td>0.000536</td>\n",
              "      <td>0.018549</td>\n",
              "      <td>0.001850</td>\n",
              "      <td>0.001207</td>\n",
              "      <td>15177</td>\n",
              "      <td>15188</td>\n",
              "      <td>0.0</td>\n",
              "      <td>0.0</td>\n",
              "      <td>0.0</td>\n",
              "      <td>0.0</td>\n",
              "      <td>0.0</td>\n",
              "      <td>0.000000</td>\n",
              "      <td>0.0</td>\n",
              "      <td>0.0</td>\n",
              "      <td>0.0</td>\n",
              "      <td>0.0</td>\n",
              "      <td>0.0</td>\n",
              "      <td>0.000000</td>\n",
              "      <td>0.0</td>\n",
              "      <td>0.0</td>\n",
              "      <td>0.0</td>\n",
              "      <td>0.0</td>\n",
              "      <td>0.0</td>\n",
              "      <td>0.0</td>\n",
              "      <td>0.0</td>\n",
              "      <td>0.0</td>\n",
              "      <td>0.000000</td>\n",
              "      <td>0.0</td>\n",
              "      <td>0.0</td>\n",
              "      <td>0.0</td>\n",
              "      <td>0.707107</td>\n",
              "      <td>0.0</td>\n",
              "      <td>0.0</td>\n",
              "      <td>0.707107</td>\n",
              "      <td>0.0</td>\n",
              "      <td>0.000000</td>\n",
              "      <td>0.0</td>\n",
              "      <td>0.000000</td>\n",
              "      <td>0.0</td>\n",
              "      <td>0.0</td>\n",
              "      <td>0.0</td>\n",
              "      <td>0.0</td>\n",
              "      <td>0.000000</td>\n",
              "      <td>0.0</td>\n",
              "      <td>0.0</td>\n",
              "      <td>0.0</td>\n",
              "      <td>0.0</td>\n",
              "      <td>0.0</td>\n",
              "      <td>0.0</td>\n",
              "      <td>0.0</td>\n",
              "      <td>0.0</td>\n",
              "      <td>0.0</td>\n",
              "      <td>0.0</td>\n",
              "      <td>0.0</td>\n",
              "      <td>0.0</td>\n",
              "      <td>0.0</td>\n",
              "      <td>0.0</td>\n",
              "      <td>1.0</td>\n",
              "      <td>0.0</td>\n",
              "      <td>0.0</td>\n",
              "      <td>0.0</td>\n",
              "      <td>0.0</td>\n",
              "    </tr>\n",
              "    <tr>\n",
              "      <th>1</th>\n",
              "      <td>0.037718</td>\n",
              "      <td>0.026043</td>\n",
              "      <td>0.930788</td>\n",
              "      <td>0.006211</td>\n",
              "      <td>1.00</td>\n",
              "      <td>0.001305</td>\n",
              "      <td>0.001320</td>\n",
              "      <td>0.000602</td>\n",
              "      <td>0.000619</td>\n",
              "      <td>0.070225</td>\n",
              "      <td>NaN</td>\n",
              "      <td>NaN</td>\n",
              "      <td>NaN</td>\n",
              "      <td>0.072581</td>\n",
              "      <td>0.072581</td>\n",
              "      <td>0.072764</td>\n",
              "      <td>0.003545</td>\n",
              "      <td>0.000000</td>\n",
              "      <td>0.021939</td>\n",
              "      <td>0.005522</td>\n",
              "      <td>0.001039</td>\n",
              "      <td>1939</td>\n",
              "      <td>1976</td>\n",
              "      <td>0.0</td>\n",
              "      <td>0.0</td>\n",
              "      <td>0.0</td>\n",
              "      <td>0.0</td>\n",
              "      <td>0.0</td>\n",
              "      <td>0.000000</td>\n",
              "      <td>0.0</td>\n",
              "      <td>0.0</td>\n",
              "      <td>0.0</td>\n",
              "      <td>0.0</td>\n",
              "      <td>0.0</td>\n",
              "      <td>0.503731</td>\n",
              "      <td>0.0</td>\n",
              "      <td>0.0</td>\n",
              "      <td>0.0</td>\n",
              "      <td>0.0</td>\n",
              "      <td>0.0</td>\n",
              "      <td>0.0</td>\n",
              "      <td>0.0</td>\n",
              "      <td>0.0</td>\n",
              "      <td>0.500869</td>\n",
              "      <td>0.0</td>\n",
              "      <td>0.0</td>\n",
              "      <td>0.0</td>\n",
              "      <td>0.000000</td>\n",
              "      <td>0.0</td>\n",
              "      <td>0.0</td>\n",
              "      <td>0.000000</td>\n",
              "      <td>0.0</td>\n",
              "      <td>0.311168</td>\n",
              "      <td>0.0</td>\n",
              "      <td>0.380544</td>\n",
              "      <td>0.0</td>\n",
              "      <td>0.0</td>\n",
              "      <td>0.0</td>\n",
              "      <td>0.0</td>\n",
              "      <td>0.503731</td>\n",
              "      <td>0.0</td>\n",
              "      <td>0.0</td>\n",
              "      <td>0.0</td>\n",
              "      <td>0.0</td>\n",
              "      <td>0.0</td>\n",
              "      <td>0.0</td>\n",
              "      <td>0.0</td>\n",
              "      <td>0.0</td>\n",
              "      <td>0.0</td>\n",
              "      <td>0.0</td>\n",
              "      <td>0.0</td>\n",
              "      <td>0.0</td>\n",
              "      <td>0.0</td>\n",
              "      <td>0.0</td>\n",
              "      <td>0.0</td>\n",
              "      <td>1.0</td>\n",
              "      <td>0.0</td>\n",
              "      <td>0.0</td>\n",
              "      <td>0.0</td>\n",
              "    </tr>\n",
              "    <tr>\n",
              "      <th>2</th>\n",
              "      <td>0.018386</td>\n",
              "      <td>0.018386</td>\n",
              "      <td>0.727924</td>\n",
              "      <td>0.006211</td>\n",
              "      <td>1.00</td>\n",
              "      <td>0.000443</td>\n",
              "      <td>0.000469</td>\n",
              "      <td>0.000355</td>\n",
              "      <td>0.000380</td>\n",
              "      <td>0.011236</td>\n",
              "      <td>0.000340</td>\n",
              "      <td>0.000824</td>\n",
              "      <td>0.000892</td>\n",
              "      <td>0.005658</td>\n",
              "      <td>0.005658</td>\n",
              "      <td>0.005767</td>\n",
              "      <td>0.000753</td>\n",
              "      <td>0.000824</td>\n",
              "      <td>0.018621</td>\n",
              "      <td>0.003563</td>\n",
              "      <td>0.001365</td>\n",
              "      <td>15177</td>\n",
              "      <td>15188</td>\n",
              "      <td>0.0</td>\n",
              "      <td>0.0</td>\n",
              "      <td>0.0</td>\n",
              "      <td>0.0</td>\n",
              "      <td>0.0</td>\n",
              "      <td>0.000000</td>\n",
              "      <td>0.0</td>\n",
              "      <td>0.0</td>\n",
              "      <td>0.0</td>\n",
              "      <td>0.0</td>\n",
              "      <td>0.0</td>\n",
              "      <td>0.000000</td>\n",
              "      <td>0.0</td>\n",
              "      <td>0.0</td>\n",
              "      <td>0.0</td>\n",
              "      <td>0.0</td>\n",
              "      <td>0.0</td>\n",
              "      <td>0.0</td>\n",
              "      <td>0.0</td>\n",
              "      <td>0.0</td>\n",
              "      <td>0.000000</td>\n",
              "      <td>0.0</td>\n",
              "      <td>0.0</td>\n",
              "      <td>0.0</td>\n",
              "      <td>0.707107</td>\n",
              "      <td>0.0</td>\n",
              "      <td>0.0</td>\n",
              "      <td>0.707107</td>\n",
              "      <td>0.0</td>\n",
              "      <td>0.000000</td>\n",
              "      <td>0.0</td>\n",
              "      <td>0.000000</td>\n",
              "      <td>0.0</td>\n",
              "      <td>0.0</td>\n",
              "      <td>0.0</td>\n",
              "      <td>0.0</td>\n",
              "      <td>0.000000</td>\n",
              "      <td>0.0</td>\n",
              "      <td>0.0</td>\n",
              "      <td>0.0</td>\n",
              "      <td>0.0</td>\n",
              "      <td>0.0</td>\n",
              "      <td>0.0</td>\n",
              "      <td>0.0</td>\n",
              "      <td>0.0</td>\n",
              "      <td>0.0</td>\n",
              "      <td>0.0</td>\n",
              "      <td>0.0</td>\n",
              "      <td>0.0</td>\n",
              "      <td>0.0</td>\n",
              "      <td>0.0</td>\n",
              "      <td>1.0</td>\n",
              "      <td>0.0</td>\n",
              "      <td>0.0</td>\n",
              "      <td>0.0</td>\n",
              "      <td>0.0</td>\n",
              "    </tr>\n",
              "    <tr>\n",
              "      <th>3</th>\n",
              "      <td>0.018783</td>\n",
              "      <td>0.017665</td>\n",
              "      <td>0.906921</td>\n",
              "      <td>0.006211</td>\n",
              "      <td>1.00</td>\n",
              "      <td>0.000525</td>\n",
              "      <td>0.000543</td>\n",
              "      <td>0.000328</td>\n",
              "      <td>0.000352</td>\n",
              "      <td>0.021419</td>\n",
              "      <td>0.000000</td>\n",
              "      <td>0.000029</td>\n",
              "      <td>0.000030</td>\n",
              "      <td>0.011276</td>\n",
              "      <td>0.011276</td>\n",
              "      <td>0.011075</td>\n",
              "      <td>0.000961</td>\n",
              "      <td>0.000865</td>\n",
              "      <td>0.018796</td>\n",
              "      <td>0.002016</td>\n",
              "      <td>0.000756</td>\n",
              "      <td>15177</td>\n",
              "      <td>15188</td>\n",
              "      <td>0.0</td>\n",
              "      <td>0.0</td>\n",
              "      <td>0.0</td>\n",
              "      <td>0.0</td>\n",
              "      <td>0.0</td>\n",
              "      <td>0.848005</td>\n",
              "      <td>0.0</td>\n",
              "      <td>0.0</td>\n",
              "      <td>0.0</td>\n",
              "      <td>0.0</td>\n",
              "      <td>0.0</td>\n",
              "      <td>0.000000</td>\n",
              "      <td>0.0</td>\n",
              "      <td>0.0</td>\n",
              "      <td>0.0</td>\n",
              "      <td>0.0</td>\n",
              "      <td>0.0</td>\n",
              "      <td>0.0</td>\n",
              "      <td>0.0</td>\n",
              "      <td>0.0</td>\n",
              "      <td>0.000000</td>\n",
              "      <td>0.0</td>\n",
              "      <td>0.0</td>\n",
              "      <td>0.0</td>\n",
              "      <td>0.191667</td>\n",
              "      <td>0.0</td>\n",
              "      <td>0.0</td>\n",
              "      <td>0.191667</td>\n",
              "      <td>0.0</td>\n",
              "      <td>0.455428</td>\n",
              "      <td>0.0</td>\n",
              "      <td>0.000000</td>\n",
              "      <td>0.0</td>\n",
              "      <td>0.0</td>\n",
              "      <td>0.0</td>\n",
              "      <td>0.0</td>\n",
              "      <td>0.000000</td>\n",
              "      <td>0.0</td>\n",
              "      <td>0.0</td>\n",
              "      <td>0.0</td>\n",
              "      <td>0.0</td>\n",
              "      <td>0.0</td>\n",
              "      <td>0.0</td>\n",
              "      <td>0.0</td>\n",
              "      <td>0.0</td>\n",
              "      <td>0.0</td>\n",
              "      <td>0.0</td>\n",
              "      <td>0.0</td>\n",
              "      <td>0.0</td>\n",
              "      <td>0.0</td>\n",
              "      <td>0.0</td>\n",
              "      <td>0.0</td>\n",
              "      <td>1.0</td>\n",
              "      <td>0.0</td>\n",
              "      <td>0.0</td>\n",
              "      <td>0.0</td>\n",
              "    </tr>\n",
              "    <tr>\n",
              "      <th>4</th>\n",
              "      <td>0.005651</td>\n",
              "      <td>0.005651</td>\n",
              "      <td>0.806683</td>\n",
              "      <td>0.006211</td>\n",
              "      <td>1.00</td>\n",
              "      <td>0.000634</td>\n",
              "      <td>0.000664</td>\n",
              "      <td>0.000465</td>\n",
              "      <td>0.000494</td>\n",
              "      <td>0.021770</td>\n",
              "      <td>0.000388</td>\n",
              "      <td>0.000292</td>\n",
              "      <td>0.000317</td>\n",
              "      <td>0.003474</td>\n",
              "      <td>0.003474</td>\n",
              "      <td>0.003506</td>\n",
              "      <td>0.000331</td>\n",
              "      <td>0.000323</td>\n",
              "      <td>0.018558</td>\n",
              "      <td>0.001033</td>\n",
              "      <td>0.001247</td>\n",
              "      <td>15177</td>\n",
              "      <td>15188</td>\n",
              "      <td>0.0</td>\n",
              "      <td>0.0</td>\n",
              "      <td>0.0</td>\n",
              "      <td>0.0</td>\n",
              "      <td>0.0</td>\n",
              "      <td>0.000000</td>\n",
              "      <td>0.0</td>\n",
              "      <td>0.0</td>\n",
              "      <td>0.0</td>\n",
              "      <td>0.0</td>\n",
              "      <td>0.0</td>\n",
              "      <td>0.000000</td>\n",
              "      <td>0.0</td>\n",
              "      <td>0.0</td>\n",
              "      <td>0.0</td>\n",
              "      <td>0.0</td>\n",
              "      <td>0.0</td>\n",
              "      <td>0.0</td>\n",
              "      <td>0.0</td>\n",
              "      <td>0.0</td>\n",
              "      <td>0.000000</td>\n",
              "      <td>0.0</td>\n",
              "      <td>0.0</td>\n",
              "      <td>0.0</td>\n",
              "      <td>0.707107</td>\n",
              "      <td>0.0</td>\n",
              "      <td>0.0</td>\n",
              "      <td>0.707107</td>\n",
              "      <td>0.0</td>\n",
              "      <td>0.000000</td>\n",
              "      <td>0.0</td>\n",
              "      <td>0.000000</td>\n",
              "      <td>0.0</td>\n",
              "      <td>0.0</td>\n",
              "      <td>0.0</td>\n",
              "      <td>0.0</td>\n",
              "      <td>0.000000</td>\n",
              "      <td>0.0</td>\n",
              "      <td>0.0</td>\n",
              "      <td>0.0</td>\n",
              "      <td>0.0</td>\n",
              "      <td>0.0</td>\n",
              "      <td>0.0</td>\n",
              "      <td>0.0</td>\n",
              "      <td>0.0</td>\n",
              "      <td>0.0</td>\n",
              "      <td>0.0</td>\n",
              "      <td>0.0</td>\n",
              "      <td>0.0</td>\n",
              "      <td>0.0</td>\n",
              "      <td>0.0</td>\n",
              "      <td>1.0</td>\n",
              "      <td>0.0</td>\n",
              "      <td>0.0</td>\n",
              "      <td>0.0</td>\n",
              "      <td>0.0</td>\n",
              "    </tr>\n",
              "  </tbody>\n",
              "</table>\n",
              "</div>"
            ],
            "text/plain": [
              "   Self-Reported Gross Floor Area (ft²)  ...  x0_staten island\n",
              "0                              0.010688  ...               0.0\n",
              "1                              0.037718  ...               0.0\n",
              "2                              0.018386  ...               0.0\n",
              "3                              0.018783  ...               0.0\n",
              "4                              0.005651  ...               0.0\n",
              "\n",
              "[5 rows x 79 columns]"
            ]
          },
          "metadata": {
            "tags": []
          },
          "execution_count": 69
        }
      ]
    },
    {
      "cell_type": "code",
      "metadata": {
        "colab": {
          "base_uri": "https://localhost:8080/"
        },
        "id": "IaL9FxC7k7Lp",
        "outputId": "88a2423b-b72d-4707-c8aa-c730d3d97c90"
      },
      "source": [
        "X_train.info()"
      ],
      "execution_count": 70,
      "outputs": [
        {
          "output_type": "stream",
          "text": [
            "<class 'pandas.core.frame.DataFrame'>\n",
            "RangeIndex: 20363 entries, 0 to 20362\n",
            "Data columns (total 79 columns):\n",
            " #   Column                                                      Non-Null Count  Dtype  \n",
            "---  ------                                                      --------------  -----  \n",
            " 0   Self-Reported Gross Floor Area (ft²)                        20363 non-null  float64\n",
            " 1   Largest Property Use Type - Gross Floor Area (ft²)          20363 non-null  float64\n",
            " 2   Year Built                                                  20363 non-null  float64\n",
            " 3   Number of Buildings                                         20363 non-null  float64\n",
            " 4   Occupancy                                                   20363 non-null  float64\n",
            " 5   Source EUI (kBtu/ft²)                                       20363 non-null  float64\n",
            " 6   Weather Normalized Source EUI (kBtu/ft²)                    18198 non-null  float64\n",
            " 7   Site EUI (kBtu/ft²)                                         20363 non-null  float64\n",
            " 8   Weather Normalized Site EUI (kBtu/ft²)                      18198 non-null  float64\n",
            " 9   Weather Normalized Site Electricity Intensity (kWh/ft²)     19700 non-null  float64\n",
            " 10  Weather Normalized Site Natural Gas Intensity (therms/ft²)  18016 non-null  float64\n",
            " 11  Natural Gas Use (kBtu)                                      18464 non-null  float64\n",
            " 12  Weather Normalized Site Natural Gas Use (therms)            18016 non-null  float64\n",
            " 13  Electricity Use - Grid Purchase (kBtu)                      20038 non-null  float64\n",
            " 14  Electricity Use - Grid Purchase (kWh)                       20038 non-null  float64\n",
            " 15  Weather Normalized Site Electricity (kWh)                   19700 non-null  float64\n",
            " 16  Total GHG Emissions (Metric Tons CO2e)                      20360 non-null  float64\n",
            " 17  Direct GHG Emissions (Metric Tons CO2e)                     20278 non-null  float64\n",
            " 18  Indirect GHG Emissions (Metric Tons CO2e)                   20324 non-null  float64\n",
            " 19  Water Use (All Water Sources) (kgal)                        11447 non-null  float64\n",
            " 20  Water Use Intensity (All Water Sources) (gal/ft²)           11447 non-null  float64\n",
            " 21  Primary Property Type - Self Selected                       20363 non-null  int64  \n",
            " 22  Largest Property Use Type                                   20363 non-null  int64  \n",
            " 23  assembly                                                    20363 non-null  float64\n",
            " 24  bank                                                        20363 non-null  float64\n",
            " 25  bar                                                         20363 non-null  float64\n",
            " 26  branch                                                      20363 non-null  float64\n",
            " 27  care                                                        20363 non-null  float64\n",
            " 28  center                                                      20363 non-null  float64\n",
            " 29  clinic                                                      20363 non-null  float64\n",
            " 30  community                                                   20363 non-null  float64\n",
            " 31  convenience                                                 20363 non-null  float64\n",
            " 32  data                                                        20363 non-null  float64\n",
            " 33  distribution                                                20363 non-null  float64\n",
            " 34  dormitory                                                   20363 non-null  float64\n",
            " 35  entertainment                                               20363 non-null  float64\n",
            " 36  facility                                                    20363 non-null  float64\n",
            " 37  fast                                                        20363 non-null  float64\n",
            " 38  financial                                                   20363 non-null  float64\n",
            " 39  food                                                        20363 non-null  float64\n",
            " 40  gas                                                         20363 non-null  float64\n",
            " 41  general                                                     20363 non-null  float64\n",
            " 42  grocery                                                     20363 non-null  float64\n",
            " 43  hall                                                        20363 non-null  float64\n",
            " 44  health                                                      20363 non-null  float64\n",
            " 45  hospital                                                    20363 non-null  float64\n",
            " 46  hotel                                                       20363 non-null  float64\n",
            " 47  housing                                                     20363 non-null  float64\n",
            " 48  k                                                           20363 non-null  float64\n",
            " 49  medical                                                     20363 non-null  float64\n",
            " 50  multifamily                                                 20363 non-null  float64\n",
            " 51  non                                                         20363 non-null  float64\n",
            " 52  office                                                      20363 non-null  float64\n",
            " 53  outpatient                                                  20363 non-null  float64\n",
            " 54  parking                                                     20363 non-null  float64\n",
            " 55  pool                                                        20363 non-null  float64\n",
            " 56  public                                                      20363 non-null  float64\n",
            " 57  recreation                                                  20363 non-null  float64\n",
            " 58  refrigerated                                                20363 non-null  float64\n",
            " 59  residence                                                   20363 non-null  float64\n",
            " 60  restaurant                                                  20363 non-null  float64\n",
            " 61  retail                                                      20363 non-null  float64\n",
            " 62  school                                                      20363 non-null  float64\n",
            " 63  senior                                                      20363 non-null  float64\n",
            " 64  services                                                    20363 non-null  float64\n",
            " 65  station                                                     20363 non-null  float64\n",
            " 66  store                                                       20363 non-null  float64\n",
            " 67  supermarket                                                 20363 non-null  float64\n",
            " 68  surgical                                                    20363 non-null  float64\n",
            " 69  swimming                                                    20363 non-null  float64\n",
            " 70  urgent                                                      20363 non-null  float64\n",
            " 71  warehouse                                                   20363 non-null  float64\n",
            " 72  worship                                                     20363 non-null  float64\n",
            " 73  x0_bronx                                                    20363 non-null  float64\n",
            " 74  x0_brooklyn                                                 20363 non-null  float64\n",
            " 75  x0_manhattan                                                20363 non-null  float64\n",
            " 76  x0_patchogue                                                20363 non-null  float64\n",
            " 77  x0_queens                                                   20363 non-null  float64\n",
            " 78  x0_staten island                                            20363 non-null  float64\n",
            "dtypes: float64(77), int64(2)\n",
            "memory usage: 12.3 MB\n"
          ],
          "name": "stdout"
        }
      ]
    },
    {
      "cell_type": "code",
      "metadata": {
        "id": "NBX85N_MlJWL"
      },
      "source": [
        "X_train = iqr(X_train)"
      ],
      "execution_count": 71,
      "outputs": []
    },
    {
      "cell_type": "code",
      "metadata": {
        "colab": {
          "base_uri": "https://localhost:8080/"
        },
        "id": "nSPwFf46lNuR",
        "outputId": "8b1f9f70-272e-459a-c450-6194a9cad01a"
      },
      "source": [
        "X_train.shape"
      ],
      "execution_count": 72,
      "outputs": [
        {
          "output_type": "execute_result",
          "data": {
            "text/plain": [
              "(19212, 79)"
            ]
          },
          "metadata": {
            "tags": []
          },
          "execution_count": 72
        }
      ]
    },
    {
      "cell_type": "code",
      "metadata": {
        "id": "MXFJvDmSnM7Q"
      },
      "source": [
        "y_train = y_train[X_train.index]"
      ],
      "execution_count": 73,
      "outputs": []
    },
    {
      "cell_type": "code",
      "metadata": {
        "colab": {
          "base_uri": "https://localhost:8080/"
        },
        "id": "ZkqhYvEAlTS-",
        "outputId": "94a12a2e-17a0-4f6c-a8ac-71b8e9bc6407"
      },
      "source": [
        "(X_train.isnull().sum() / len(X_train)).sort_values(ascending = False)"
      ],
      "execution_count": 74,
      "outputs": [
        {
          "output_type": "execute_result",
          "data": {
            "text/plain": [
              "Water Use Intensity (All Water Sources) (gal/ft²)             0.434312\n",
              "Water Use (All Water Sources) (kgal)                          0.434312\n",
              "Weather Normalized Site Natural Gas Use (therms)              0.107641\n",
              "Weather Normalized Site Natural Gas Intensity (therms/ft²)    0.107641\n",
              "Weather Normalized Source EUI (kBtu/ft²)                      0.107121\n",
              "                                                                ...   \n",
              "outpatient                                                    0.000000\n",
              "parking                                                       0.000000\n",
              "pool                                                          0.000000\n",
              "public                                                        0.000000\n",
              "Self-Reported Gross Floor Area (ft²)                          0.000000\n",
              "Length: 79, dtype: float64"
            ]
          },
          "metadata": {
            "tags": []
          },
          "execution_count": 74
        }
      ]
    },
    {
      "cell_type": "code",
      "metadata": {
        "id": "XYDTHR6mlq6k"
      },
      "source": [
        "from sklearn.impute import KNNImputer\n",
        "\n",
        "knn = KNNImputer()\n",
        "cols = X_train.columns\n",
        "X_train = knn.fit_transform(X_train)\n",
        "X_train = pd.DataFrame(X_train, columns = cols)\n",
        "X_test= knn.transform(X_test)\n",
        "X_test = pd.DataFrame(X_test, columns = cols)"
      ],
      "execution_count": 75,
      "outputs": []
    },
    {
      "cell_type": "code",
      "metadata": {
        "colab": {
          "base_uri": "https://localhost:8080/"
        },
        "id": "REQUkE_umOGt",
        "outputId": "22d18734-1718-4e96-ea31-511b58c78d9e"
      },
      "source": [
        "(X_train.isnull().sum() / len(X_train)).sort_values(ascending = False)"
      ],
      "execution_count": 76,
      "outputs": [
        {
          "output_type": "execute_result",
          "data": {
            "text/plain": [
              "x0_staten island                         0.0\n",
              "center                                   0.0\n",
              "Primary Property Type - Self Selected    0.0\n",
              "Largest Property Use Type                0.0\n",
              "assembly                                 0.0\n",
              "                                        ... \n",
              "outpatient                               0.0\n",
              "parking                                  0.0\n",
              "pool                                     0.0\n",
              "public                                   0.0\n",
              "Self-Reported Gross Floor Area (ft²)     0.0\n",
              "Length: 79, dtype: float64"
            ]
          },
          "metadata": {
            "tags": []
          },
          "execution_count": 76
        }
      ]
    },
    {
      "cell_type": "code",
      "metadata": {
        "colab": {
          "base_uri": "https://localhost:8080/"
        },
        "id": "dchlupUNmUhx",
        "outputId": "031677a1-bf9f-4c08-ad88-3c309a195d55"
      },
      "source": [
        "from sklearn.ensemble import RandomForestRegressor\n",
        "\n",
        "rf = RandomForestRegressor(n_estimators = 500, max_depth = 5, random_state = 42, n_jobs = -1)\n",
        "rf.fit(X_train, y_train)"
      ],
      "execution_count": 77,
      "outputs": [
        {
          "output_type": "execute_result",
          "data": {
            "text/plain": [
              "RandomForestRegressor(bootstrap=True, ccp_alpha=0.0, criterion='mse',\n",
              "                      max_depth=5, max_features='auto', max_leaf_nodes=None,\n",
              "                      max_samples=None, min_impurity_decrease=0.0,\n",
              "                      min_impurity_split=None, min_samples_leaf=1,\n",
              "                      min_samples_split=2, min_weight_fraction_leaf=0.0,\n",
              "                      n_estimators=500, n_jobs=-1, oob_score=False,\n",
              "                      random_state=42, verbose=0, warm_start=False)"
            ]
          },
          "metadata": {
            "tags": []
          },
          "execution_count": 77
        }
      ]
    },
    {
      "cell_type": "code",
      "metadata": {
        "id": "Ty1vCkLEty9v"
      },
      "source": [
        "pred_train = rf.predict(X_train)\n",
        "pred_test = rf.predict(X_test)"
      ],
      "execution_count": 78,
      "outputs": []
    },
    {
      "cell_type": "code",
      "metadata": {
        "colab": {
          "base_uri": "https://localhost:8080/"
        },
        "id": "VRQNTBKBuM4K",
        "outputId": "3eef0fc2-ffe2-4c60-9495-18f11b87b46e"
      },
      "source": [
        "print('Train MAE:', MAE(y_train, pred_train))\n",
        "print('Test MAE:', MAE(y_test, pred_test))\n",
        "\n",
        "print('Train R2:', r2_score(y_train, pred_train))\n",
        "print('Test R2:', r2_score(y_test, pred_test))\n",
        "\n"
      ],
      "execution_count": 79,
      "outputs": [
        {
          "output_type": "stream",
          "text": [
            "Train MAE: 10.444146702863812\n",
            "Test MAE: 10.7810560035306\n",
            "Train R2: 0.8118027112818965\n",
            "Test R2: 0.797638333910152\n"
          ],
          "name": "stdout"
        }
      ]
    },
    {
      "cell_type": "code",
      "metadata": {
        "colab": {
          "base_uri": "https://localhost:8080/",
          "height": 513
        },
        "id": "wemnG4PRB5m0",
        "outputId": "851b7033-23dc-47cc-dd9d-3d6517e9acde"
      },
      "source": [
        "import matplotlib.pyplot as plt\n",
        "\n",
        "plt.figure(figsize=(10, 7))\n",
        "plt.scatter(y_test, pred_test)\n",
        "plt.plot([0, 100], [0, 100], '--k', color='red', linewidth=3)\n",
        "plt.xlabel('True')\n",
        "plt.ylabel('Predicted')\n",
        "plt.tight_layout()"
      ],
      "execution_count": 80,
      "outputs": [
        {
          "output_type": "display_data",
          "data": {
            "image/png": "[encoded data removed]",
            "text/plain": [
              "<Figure size 720x504 with 1 Axes>"
            ]
          },
          "metadata": {
            "tags": [],
            "needs_background": "light"
          }
        }
      ]
    },
    {
      "cell_type": "code",
      "metadata": {
        "colab": {
          "base_uri": "https://localhost:8080/"
        },
        "id": "bdWqjxkJB9eB",
        "outputId": "566c6a63-e515-4928-a8aa-283c842ed1ba"
      },
      "source": [
        "feature_scores = pd.Series(rf.feature_importances_, index=X_train.columns).sort_values(ascending=False)\n",
        "feature_scores.head(30)"
      ],
      "execution_count": 81,
      "outputs": [
        {
          "output_type": "execute_result",
          "data": {
            "text/plain": [
              "Source EUI (kBtu/ft²)                                         0.801093\n",
              "Site EUI (kBtu/ft²)                                           0.129263\n",
              "Largest Property Use Type                                     0.031765\n",
              "housing                                                       0.010014\n",
              "multifamily                                                   0.008825\n",
              "Weather Normalized Site Electricity Intensity (kWh/ft²)       0.003604\n",
              "Primary Property Type - Self Selected                         0.002391\n",
              "office                                                        0.002329\n",
              "non                                                           0.002202\n",
              "warehouse                                                     0.001346\n",
              "refrigerated                                                  0.001312\n",
              "Weather Normalized Source EUI (kBtu/ft²)                      0.001172\n",
              "Water Use (All Water Sources) (kgal)                          0.000565\n",
              "grocery                                                       0.000502\n",
              "supermarket                                                   0.000432\n",
              "Year Built                                                    0.000404\n",
              "Largest Property Use Type - Gross Floor Area (ft²)            0.000404\n",
              "Weather Normalized Site EUI (kBtu/ft²)                        0.000333\n",
              "Water Use Intensity (All Water Sources) (gal/ft²)             0.000272\n",
              "Self-Reported Gross Floor Area (ft²)                          0.000262\n",
              "Direct GHG Emissions (Metric Tons CO2e)                       0.000247\n",
              "Total GHG Emissions (Metric Tons CO2e)                        0.000228\n",
              "store                                                         0.000221\n",
              "Indirect GHG Emissions (Metric Tons CO2e)                     0.000077\n",
              "retail                                                        0.000067\n",
              "Weather Normalized Site Natural Gas Intensity (therms/ft²)    0.000067\n",
              "x0_manhattan                                                  0.000057\n",
              "Electricity Use - Grid Purchase (kWh)                         0.000054\n",
              "Electricity Use - Grid Purchase (kBtu)                        0.000053\n",
              "Weather Normalized Site Natural Gas Use (therms)              0.000050\n",
              "dtype: float64"
            ]
          },
          "metadata": {
            "tags": []
          },
          "execution_count": 81
        }
      ]
    }
  ]
}