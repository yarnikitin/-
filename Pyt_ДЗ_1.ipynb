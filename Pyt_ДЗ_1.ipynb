{
  "nbformat": 4,
  "nbformat_minor": 0,
  "metadata": {
    "colab": {
      "name": "Pyt. ДЗ 1",
      "provenance": [],
      "authorship_tag": "ABX9TyOrfuRlN1cHRe5Nsd8AIqrl",
      "include_colab_link": true
    },
    "kernelspec": {
      "name": "python3",
      "display_name": "Python 3"
    },
    "language_info": {
      "name": "python"
    }
  },
  "cells": [
    {
      "cell_type": "markdown",
      "metadata": {
        "id": "view-in-github",
        "colab_type": "text"
      },
      "source": [
        "<a href=\"https://colab.research.google.com/github/yarnikitin/-/blob/master/Pyt_%D0%94%D0%97_1.ipynb\" target=\"_parent\"><img src=\"https://colab.research.google.com/assets/colab-badge.svg\" alt=\"Open In Colab\"/></a>"
      ]
    },
    {
      "cell_type": "code",
      "metadata": {
        "colab": {
          "base_uri": "https://localhost:8080/"
        },
        "id": "9dUEpFV6yBfk",
        "outputId": "ba31b384-cb60-4cee-d504-e3eef08f683b"
      },
      "source": [
        "FIO = input ('Введите ФИО')\n",
        "strlen = len(FIO)\n",
        "n = 0\n",
        "while n < strlen:\n",
        "  print (FIO[n])\n",
        "  n += 1"
      ],
      "execution_count": 6,
      "outputs": [
        {
          "output_type": "stream",
          "text": [
            "Введите ФИО NIKITIN YAROSLAV IGOREVICH\n",
            " \n",
            "N\n",
            "I\n",
            "K\n",
            "I\n",
            "T\n",
            "I\n",
            "N\n",
            " \n",
            "Y\n",
            "A\n",
            "R\n",
            "O\n",
            "S\n",
            "L\n",
            "A\n",
            "V\n",
            " \n",
            "I\n",
            "G\n",
            "O\n",
            "R\n",
            "E\n",
            "V\n",
            "I\n",
            "C\n",
            "H\n"
          ],
          "name": "stdout"
        }
      ]
    },
    {
      "cell_type": "code",
      "metadata": {
        "colab": {
          "base_uri": "https://localhost:8080/"
        },
        "id": "wT90B4XI0nO_",
        "outputId": "dc173542-97c5-4a14-90e2-b09f29713cec"
      },
      "source": [
        "a = 'NIKITIN YAROSLAV IGOREVICH'\n",
        "for i in range (0, len(a)):\n",
        "    print(a[i])"
      ],
      "execution_count": 7,
      "outputs": [
        {
          "output_type": "stream",
          "text": [
            "N\n",
            "I\n",
            "K\n",
            "I\n",
            "T\n",
            "I\n",
            "N\n",
            " \n",
            "Y\n",
            "A\n",
            "R\n",
            "O\n",
            "S\n",
            "L\n",
            "A\n",
            "V\n",
            " \n",
            "I\n",
            "G\n",
            "O\n",
            "R\n",
            "E\n",
            "V\n",
            "I\n",
            "C\n",
            "H\n"
          ],
          "name": "stdout"
        }
      ]
    },
    {
      "cell_type": "code",
      "metadata": {
        "id": "3F0XwOe3098a"
      },
      "source": [
        "def convert(dollar):\n",
        "    euro = dollar * 1.17\n",
        "    return round(euro, 2)"
      ],
      "execution_count": 12,
      "outputs": []
    },
    {
      "cell_type": "code",
      "metadata": {
        "colab": {
          "base_uri": "https://localhost:8080/"
        },
        "id": "hTdj6To32oBf",
        "outputId": "4b8b332c-d85c-4caf-e2f9-655d4d58feab"
      },
      "source": [
        "a = 23 # 23 dollar\n",
        "def convert(dollar):\n",
        "    euro = dollar * 1.17\n",
        "    return round(euro, 2)\n",
        "\n",
        "b = convert(a) # 23 dollar v euro\n",
        "print(b)"
      ],
      "execution_count": 14,
      "outputs": [
        {
          "output_type": "stream",
          "text": [
            "26.91\n"
          ],
          "name": "stdout"
        }
      ]
    }
  ]
}